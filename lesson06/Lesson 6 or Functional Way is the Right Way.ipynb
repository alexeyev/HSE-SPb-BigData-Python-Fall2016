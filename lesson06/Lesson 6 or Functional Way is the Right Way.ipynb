{
 "cells": [
  {
   "cell_type": "markdown",
   "metadata": {},
   "source": [
    "## Практическое занятие 6\n",
    "0. Комментарии по мотивам code review\n",
    "1. ещё пара слов о функциях\n",
    "2. продолжаем решать задачи на словари и функции"
   ]
  },
  {
   "cell_type": "code",
   "execution_count": null,
   "metadata": {
    "collapsed": true
   },
   "outputs": [],
   "source": [
    "# как держать параллельно две версии питона на одной машине с OS Windows\n",
    "# Python2 + Python3 on Windows 7\n",
    "# http://stackoverflow.com/questions/30492623/using-both-python-2-x-and-python-3-x-in-ipython-notebook"
   ]
  },
  {
   "cell_type": "markdown",
   "metadata": {
    "collapsed": true
   },
   "source": [
    "Ниже ответ на вопрос, что будет, если добавить ранее добавленное значение по другому ключу.\n",
    "\n",
    "\n",
    "Как и следовало ожидать -- так как есть новый указатель на старый объект -- удалился только старый ключ."
   ]
  },
  {
   "cell_type": "code",
   "execution_count": 1,
   "metadata": {
    "collapsed": false
   },
   "outputs": [
    {
     "name": "stdout",
     "output_type": "stream",
     "text": [
      "{'key2': [1, 2, 3], 'key1': 12}\n"
     ]
    }
   ],
   "source": [
    "# Ответ на вопрос\n",
    "b = [1, 2, 3]\n",
    "a = {\"key0\": b, \"key1\": 12}\n",
    "a[\"key2\"] = b\n",
    "\n",
    "del a[\"key0\"]\n",
    "\n",
    "print(a)"
   ]
  },
  {
   "cell_type": "markdown",
   "metadata": {
    "collapsed": true
   },
   "source": [
    "**Разбор по мотивам code review:**\n",
    "\n",
    "    * magic numbers\n",
    "    * создание списков на лету -- почему это плохо [постоянное перезаписывание динамического массива]\n",
    "    * неговорящие имена переменных\n",
    "    * пришло время прочитать PEP8: пустые "
   ]
  },
  {
   "cell_type": "markdown",
   "metadata": {},
   "source": [
    "**Что такое функциональное программирование** -- повод для чтения нескольких статей и холиваров.\n",
    "\n",
    "Для нас важно --\n",
    "\n",
    "- Акцент на обработке списков (lists, отсюда название Lisp - LISt Processing). Списки с рекурсивным обходом подсписков часто используются в качестве замены циклов.\n",
    "\n",
    "- \"Чистые\" функциональные языки избегают побочных эффектов. Это исключает почти повсеместно распространенный в императивных языках подход, при котором одной и той же переменной последовательно присваиваются различные значения для отслеживания состояния программы.\n",
    "\n",
    "- FP акцентируется на том, **что** должно быть вычислено, а не **как**.\n",
    "\n",
    "- Большая часть FP использует функции \"высокого порядка\" (функции, оперирующие функциями, оперирующими функциями)\n",
    "\n",
    "c-p-ed from http://www.ibm.com/developerworks/ru/library/l-prog/"
   ]
  },
  {
   "cell_type": "markdown",
   "metadata": {},
   "source": [
    "**Элементы функционального программирования в Python**\n",
    "\n",
    "Многие уже использовали -- нагуглили или знали -- так называемые **for-comrehensions**, \n",
    "выражения, которые упрощают жизнь и укорачивают код.\n",
    "Кто-то использовал **map** и прочие штуки.\n",
    "\n",
    "Давайте с ними разберёмся, задач на них, можно сказать, не будет, но вы их полюбите сами [вынужденно]."
   ]
  },
  {
   "cell_type": "code",
   "execution_count": 3,
   "metadata": {
    "collapsed": false
   },
   "outputs": [
    {
     "data": {
      "text/plain": [
       "144"
      ]
     },
     "execution_count": 3,
     "metadata": {},
     "output_type": "execute_result"
    }
   ],
   "source": [
    "# ещё один способ задать функцию\n",
    "square_func = lambda x: x ** 2\n",
    "\n",
    "square_func(12)"
   ]
  },
  {
   "cell_type": "code",
   "execution_count": 19,
   "metadata": {
    "collapsed": false
   },
   "outputs": [
    {
     "name": "stdout",
     "output_type": "stream",
     "text": [
      "[('now', -1), ('oh', 0), ('ve', 44), ('we', -3, 0.4)]\n",
      "[('we', -3, 0.4), ('now', -1), ('oh', 0), ('ve', 44)]\n"
     ]
    }
   ],
   "source": [
    "# пример применения\n",
    "a = [(\"oh\", 0), (\"now\", -1), (\"we\", -3, 0.4), (\"ve\", 44)]\n",
    "a.sort()\n",
    "print(a)\n",
    "\n",
    "a.sort(key=lambda x: x[1])\n",
    "print(a)"
   ]
  },
  {
   "cell_type": "code",
   "execution_count": 7,
   "metadata": {
    "collapsed": false
   },
   "outputs": [
    {
     "name": "stdout",
     "output_type": "stream",
     "text": [
      "[0.01904761904761905, 0.11428571428571428, 0.8095238095238095, 0.0, 0.05714285714285714]\n",
      "[0.023529411764705882, 0.1411764705882353, 1.0, 0.0, 0.07058823529411765]\n",
      "[0.01904761904761905, 0.11428571428571428, 0.8095238095238095, 0.0, 0.05714285714285714]\n",
      "[0.023529411764705882, 0.1411764705882353, 1.0, 0.0, 0.07058823529411765]\n"
     ]
    }
   ],
   "source": [
    "def agg_func(array):\n",
    "    return sum(array)\n",
    "\n",
    "# agg_func = lambda x: sum(x) -- то же\n",
    "\n",
    "def one_more_agg_func(array):\n",
    "    return max(array)\n",
    "\n",
    "def array_divided_by_normalizer(array, norm_func):\n",
    "    \"\"\"\n",
    "        Принимаем на вход список и функцию, которая вычислит по нему какой-то агрегат.\n",
    "    \"\"\"\n",
    "    \n",
    "    new_array = list(array)\n",
    "    normalizer = norm_func(array) # применяем аргумент-функцию к аргументу-списку!\n",
    "    \n",
    "    for i in range(len(array)):\n",
    "        new_array[i] /= normalizer\n",
    "        \n",
    "    return new_array\n",
    "\n",
    "a = [2, 12, 85, 0, 6]\n",
    "\n",
    "print(array_divided_by_normalizer(a, agg_func))\n",
    "print(array_divided_by_normalizer(a, one_more_agg_func))\n",
    "print(array_divided_by_normalizer(a, sum))\n",
    "print(array_divided_by_normalizer(a, max))\n",
    "# print(array_divided_by_normalizer(a, min)) # => ?"
   ]
  },
  {
   "cell_type": "code",
   "execution_count": 13,
   "metadata": {
    "collapsed": false
   },
   "outputs": [
    {
     "name": "stdout",
     "output_type": "stream",
     "text": [
      "<map object at 0x7fabc89e4588>\n"
     ]
    }
   ],
   "source": [
    "# обработка списков\n",
    "\n",
    "# map просто применяет одно и то же действие к каждому элементу коллекции\n",
    "example = [1, 2, 3]\n",
    "\n",
    "# возводим в куб\n",
    "a = map(lambda x: x ** 3, example)\n",
    "\n",
    "# переводим каждый элемент в строку\n",
    "a = map(lambda x: str(x), a)\n",
    "\n",
    "print(a) # ой! lazy evaluation -- все действия применяются и объект вычисляется только когда нужен\n",
    "\n",
    "# print(\" \".join(a))\n"
   ]
  },
  {
   "cell_type": "code",
   "execution_count": 15,
   "metadata": {
    "collapsed": false
   },
   "outputs": [
    {
     "name": "stdout",
     "output_type": "stream",
     "text": [
      "1 3 57\n"
     ]
    }
   ],
   "source": [
    "# filter проверяет заданное в функции-аргументе условие, и выбрасывает очередной элемент\n",
    "example = [1, 2, 3, 44, 26, 57]\n",
    "\n",
    "# выбрасываем чётные\n",
    "a = filter(lambda x: x % 2 != 0, example)\n",
    "\n",
    "# переводим каждый элемент в строку\n",
    "a = map(lambda x: str(x), a)\n",
    "\n",
    "print(\" \".join(a))"
   ]
  },
  {
   "cell_type": "code",
   "execution_count": 21,
   "metadata": {
    "collapsed": false
   },
   "outputs": [
    {
     "name": "stdout",
     "output_type": "stream",
     "text": [
      "<map object at 0x7fabc89f7dd8>\n"
     ]
    }
   ],
   "source": [
    "# то, что одобряет Guido -- for comprehensions\n",
    "# имеют ту же выразительную силу, что и многие функциональные штучки\n",
    "\n",
    "words = 'The quick brown fox jumps over the lazy dog'.split()\n",
    "stuff = map(lambda w: [w.upper(), w.lower(), len(w)], words)\n",
    "\n",
    "print(stuff)\n",
    "\n",
    "# то же самое\n",
    "stuff = [[w.upper(), w.lower(), len(w)] for w in words]\n",
    "\n",
    "# или нет?\n",
    "# print(stuff)\n",
    "\n",
    "# а если так?\n",
    "stuff = ([w.upper(), w.lower(), len(w)] for w in words)\n",
    "# print(stuff)"
   ]
  },
  {
   "cell_type": "code",
   "execution_count": 24,
   "metadata": {
    "collapsed": false
   },
   "outputs": [
    {
     "name": "stdout",
     "output_type": "stream",
     "text": [
      "[1, 4, 9]\n",
      "[1, 4, 9]\n",
      "[1, 4, 9]\n"
     ]
    }
   ],
   "source": [
    "# filter тоже можно реализовать, добавив в конец выражения if\n",
    "# если True -- будет принято\n",
    "\n",
    "numbers = [1, 4, 5, 6, 7, 8, 9]\n",
    "\n",
    "def is_square(num):\n",
    "    return int(num ** 0.5) ** 2 == num\n",
    "\n",
    "# is_square = lambda x: int(x ** 0.5) ** 2 == x\n",
    "\n",
    "print(list(filter(is_square, numbers)))\n",
    "\n",
    "# делается так\n",
    "print([n for n in numbers if is_square(n)])\n",
    "\n",
    "# или так\n",
    "print([n for n in numbers if int(n ** 0.5) ** 2 == n])"
   ]
  },
  {
   "cell_type": "code",
   "execution_count": 26,
   "metadata": {
    "collapsed": false
   },
   "outputs": [
    {
     "name": "stdout",
     "output_type": "stream",
     "text": [
      "[1, 2, 3, 4, 5, 6]\n"
     ]
    }
   ],
   "source": [
    "# вложенные for также допустимы!\n",
    "a = [[1, 2, 3], [4, 5, 6]]\n",
    "\n",
    "# хотим получить всё в одну строку\n",
    "# внимание! нетривиальный порядок for-ов!\n",
    "one_line_a = [cell for row in a for cell in row]\n",
    "print(one_line_a)"
   ]
  },
  {
   "cell_type": "code",
   "execution_count": 23,
   "metadata": {
    "collapsed": false
   },
   "outputs": [
    {
     "name": "stdout",
     "output_type": "stream",
     "text": [
      "{0: 1, 1: 2, 2: 5, 3: 10, 4: 17, 5: 26, 6: 37, 7: 50, 8: 65, 9: 82}\n"
     ]
    }
   ],
   "source": [
    "# и ещё один приятный пример\n",
    "my_dict = {x: x ** 2 + 1 for x in range(10)}\n",
    "\n",
    "print(my_dict)"
   ]
  },
  {
   "cell_type": "raw",
   "metadata": {},
   "source": [
    "\"Разреженные матрицы\"\n",
    "\n",
    "Это матрицы, в которых много нулей. Если такие матрицы строить \"как обычно\", \n",
    "они часто не умещаются в память, и для работы с ними есть эффективные методы. \n",
    "\n",
    "Например, если число ненулей много меньше N x M x K, использование \n",
    "реализации произведения матриц, которая будет работать строго за N x M x K, \n",
    "по крайней мере странно.\n",
    "\n",
    "Задание: реализовать разреженные матрицы нескольких видов.\n",
    "Все действия с матрицами представить в виде функций, где матрица -- один из аргументов.\n",
    "\n",
    "Детали реализации будем обсуждать на занятии, возможны варианты.\n",
    "\n",
    "1) Зачитать huge_matrix [пожалуйста, не используйте readlines или read] и сохранить в другом формате. \n",
    "    \n",
    "2) Зачитать разреженную матрицу из файла со \"своим форматом\" и обеспечить быстрый доступ к любому элементу.\n",
    "\n",
    "3) Реализовать умножение на \"обычную\" матрицу или вектор.\n",
    "\n",
    "4*) Реализовать умножение на разреженную матрицу. \n",
    "   Подумать, как это сделать эффективно, а не на основе того, что уже есть.\n",
    "   Подсказка: нужно совсем другое представление."
   ]
  },
  {
   "cell_type": "raw",
   "metadata": {},
   "source": [
    "\"Яндекс на коленке\"\n",
    "\n",
    "Во время работы над заданием прошу не забывать, \n",
    "что есть функции и что мы умеем пользоваться трюками из функциональных языков.\n",
    "\n",
    "Полный датасет здесь\n",
    "http://www.cs.cmu.edu/afs/cs.cmu.edu/project/theo-20/www/data/news20.html\n",
    "\n",
    "А мы возьмём заранее \"отстеммленный\", и только тестовую часть: \n",
    "http://ana.cachopo.org/datasets-for-single-label-text-categorization/20ng-test-stemmed.txt?attredirects=0&d=1\n",
    "\n",
    "\n",
    "1) Взять коллекцию текстов, размеченную классами-тематиками. \n",
    "   Каждый текст -- прочитать в строку, посчитать частоты слов, построив словарь вида \"слово\" -> частота.\n",
    "   Итог -- список кортежей: (тематика, словарь частот)\n",
    "\n",
    "2) У нас есть словари с частотами нормализованных слов, \n",
    "   для каждого текста -- свой. С их помощью вычислить TF-IDF для\n",
    "   каждого слова в каждом текста -- это ещё один словарь, \n",
    "   по одному на каждый текст.\n",
    "   Итог -- список кортежей: (тематика, словарь частот)\n",
    "\n",
    "3) Для каждого текста вывести топ-10 слов по TF-IDF.\n",
    "   Хорошо ли они описывают тексты? Похожи ли они на тематику?\n",
    "\n",
    "4*) Проделать то же как для отдельных слов, так и для биграмм.\n",
    "\n",
    "5) Реализуйте функцию, которая по входящей строке с запросом\n",
    "   выдаёт список из десяти документов, упорядоченных по косинусному \n",
    "   расстоянию между запросом и документом; координата -- слово.\n",
    "   Загадайте одну из тематик, придумайте под неё запрос с учётом стемминга.\n",
    "   Нашлась ли она?\n",
    "\n",
    "6*) Разбейте документы на две коллекции в отношении 80-20 [train-test соотв.]. \n",
    "    Перестройте словари с tf-idf только на train.\n",
    "    Используя тексты статей из test как запрос для функции из 5, посмотрите, \n",
    "    насколько хорошо наша \"поисковая машина\" угадывает метку.\n",
    "\n",
    "7*) Прочитайте статью о tf-idf, information retrieval, подумайте, как можно улучшить поиск. \n"
   ]
  },
  {
   "cell_type": "code",
   "execution_count": null,
   "metadata": {
    "collapsed": true
   },
   "outputs": [],
   "source": []
  }
 ],
 "metadata": {
  "kernelspec": {
   "display_name": "Python 3",
   "language": "python",
   "name": "python3"
  },
  "language_info": {
   "codemirror_mode": {
    "name": "ipython",
    "version": 3
   },
   "file_extension": ".py",
   "mimetype": "text/x-python",
   "name": "python",
   "nbconvert_exporter": "python",
   "pygments_lexer": "ipython3",
   "version": "3.5.2"
  }
 },
 "nbformat": 4,
 "nbformat_minor": 0
}
