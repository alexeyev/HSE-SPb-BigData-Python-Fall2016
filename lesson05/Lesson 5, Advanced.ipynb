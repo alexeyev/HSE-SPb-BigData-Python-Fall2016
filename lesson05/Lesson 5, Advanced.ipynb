{
 "cells": [
  {
   "cell_type": "code",
   "execution_count": null,
   "metadata": {
    "collapsed": true
   },
   "outputs": [],
   "source": [
    "\"\"\"\n",
    "Задача 0. Разреженные матрицы (см. Lesson5, посл. задача)\n",
    "\"\"\""
   ]
  },
  {
   "cell_type": "code",
   "execution_count": null,
   "metadata": {
    "collapsed": true
   },
   "outputs": [],
   "source": [
    "\"\"\"\n",
    "Задача 1.\n",
    "\n",
    "1) \"Руками\" скачать http://lib.ru/CARROLL/anya.txt -- и сохранить в текстовый файл.\n",
    "Построить список нормализованных слов с помощью mystem.lemmatize https://nlpub.ru/Mystem#Python (+ см. ниже)\n",
    "Подсчитать статистику по словам, по биграммам -- парам подряд идущих слов \n",
    "(для вывода в консоль можно взять топ-n по частотам).\n",
    " \n",
    "Служебные части речи и прочие \"стоп-слова\" можно заменить на особое \n",
    "ничего не значащее слово (например, PROBLEMOFFICER). И не вносить ни его, \n",
    "ни биграммы с его \"участием в статистику\".\n",
    "\n",
    "Использование словарей и функций настоятельно рекомендуется.\n",
    "\n",
    "2*) Эвристически разбить книжку на главы. Каждую главу записать в отдельный файл средствами Python.\n",
    "3*) Используя код из пункта (1), для каждого файла посчитать статистику частот встречаемости слов и пар слов.\n",
    "\n",
    "Как поставить (что-то одно должно работать):\n",
    "\n",
    "pip install pymystem3\n",
    "или\n",
    "pip3 install pymystem3\n",
    "или\n",
    "conda install ... [todo:google it]\n",
    "\"\"\"\n",
    "\n",
    "import pymystem3 # при необходимости надо установить с помощью conda"
   ]
  },
  {
   "cell_type": "code",
   "execution_count": null,
   "metadata": {
    "collapsed": true
   },
   "outputs": [],
   "source": [
    "\"\"\"\n",
    "Задача 2\n",
    "Используя свою реализацию разреженных матриц из задачи 1, \n",
    "спроектируйте и реализуйте Hyperspace Analogue to Language \n",
    "(вероятно, потребуется дополнительный рассказ преподавателя)\n",
    "\"\"\""
   ]
  },
  {
   "cell_type": "code",
   "execution_count": 8,
   "metadata": {
    "collapsed": false
   },
   "outputs": [],
   "source": []
  },
  {
   "cell_type": "code",
   "execution_count": null,
   "metadata": {
    "collapsed": true
   },
   "outputs": [],
   "source": []
  }
 ],
 "metadata": {
  "kernelspec": {
   "display_name": "Python 3",
   "language": "python",
   "name": "python3"
  },
  "language_info": {
   "codemirror_mode": {
    "name": "ipython",
    "version": 3
   },
   "file_extension": ".py",
   "mimetype": "text/x-python",
   "name": "python",
   "nbconvert_exporter": "python",
   "pygments_lexer": "ipython3",
   "version": "3.5.2"
  }
 },
 "nbformat": 4,
 "nbformat_minor": 0
}
