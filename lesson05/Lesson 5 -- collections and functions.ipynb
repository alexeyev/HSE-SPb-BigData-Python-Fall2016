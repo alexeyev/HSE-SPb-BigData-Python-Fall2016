{
 "cells": [
  {
   "cell_type": "markdown",
   "metadata": {},
   "source": [
    "**Занятие 5**\n",
    "\n",
    "1. Коллекции в Python: словари и множества, встроенные методы работы с ними. \n",
    "2. Функции в Python. Аргументы по умолчанию."
   ]
  },
  {
   "cell_type": "markdown",
   "metadata": {
    "collapsed": true
   },
   "source": [
    "**Множество** -- коллекция уникальных элементов, в которой не гарантируется никакой порядок над ними.\n",
    "\n",
    "Common uses include \n",
    "- membership testing, \n",
    "- removing duplicates from a sequence, \n",
    "- computing standard math operations on sets such as intersection, union, difference, and symmetric difference.\n",
    "\n",
    "Важно: все элементы должны быть \"неизменяемыми\" (immutables), так как только у неизменяемых может быть честно определён метод __hash__.\n",
    "\n",
    "Да, множество в питоне -- это HashSet."
   ]
  },
  {
   "cell_type": "code",
   "execution_count": 4,
   "metadata": {
    "collapsed": false
   },
   "outputs": [],
   "source": [
    "# для создания множества надо подать ему на вход iterable \n",
    "# (то, что можно, например, перебирать for ... in ...), например, список\n",
    "hello_set = set([1, 2, 8, 8, 5, \"vyshel\", \"zaichik\"])\n",
    "one_more_way_to_set_a_set = {\"pif\", \"paf\", \"oi!\", \"oi!\", \"oi!\"}\n",
    "\n",
    "# Вопрос: что мы получим, если напишем?\n",
    "# b = set(\"humpty-dumpty sat on the wall\")\n",
    "\n",
    "# пустое множество\n",
    "a = set()\n",
    "\n",
    "# NB! это не множество!\n",
    "b = {}\n",
    "\n",
    "# типы обоих объектов\n",
    "print(type(a), type(b))"
   ]
  },
  {
   "cell_type": "code",
   "execution_count": null,
   "metadata": {
    "collapsed": true
   },
   "outputs": [],
   "source": [
    "# len -- \"размер\", \"длина\", мощность множества\n",
    "print(len(hello_set))\n",
    "print(len(one_more_way_to_set_a_set), one_more_way_to_set_a_set)\n",
    "\n",
    "# проверка, содержится ли элемент в множестве -- in\n",
    "if \"pogulyat'\" in hello_set:\n",
    "    print(\"Element found in set\")\n",
    "else:\n",
    "    print(\"Oops, not found\")\n",
    "\n",
    "# не в множестве -- x not in some_set -- то же, что not x in some_set\n",
    "print(\"pogulyat' is not in hello_set, is it?\", \"pogulyat'\" not in hello_set)"
   ]
  },
  {
   "cell_type": "code",
   "execution_count": null,
   "metadata": {
    "collapsed": true
   },
   "outputs": [],
   "source": [
    "# проверки на вхождение как подмножество\n",
    "integer = {1, 2, 3, 4, 5, 6, 7, 8, 9, 10, 11, 12, 13, 14, 15, 16, 17, 18, 19, 20}\n",
    "prime = {2, 3, 5, 7, 11, 13, 17, 19}\n",
    "\n",
    "# проверка, что каждый элемент -- каждый элемент другого\n",
    "# результат -- булевское значение\n",
    "print(prime.issubset(integer))\n",
    "print(prime <= integer)\n",
    "\n",
    "# то же, но другой порядок \"аргументов\" -- проверяем, что второе входит в первое\n",
    "print(integer.issuperset(prime))\n",
    "print(integer >= prime)"
   ]
  },
  {
   "cell_type": "code",
   "execution_count": null,
   "metadata": {
    "collapsed": true
   },
   "outputs": [],
   "source": [
    "# бинарные операции над множествами, каждая создаёт НОВОЕ множество\n",
    "s = {'duck', 'hen'}\n",
    "t = {'cuckoo', 'sparrow', 'hawk', 'woodpeckers', 'duck'}\n",
    "print(s, t)\n",
    "\n",
    "# объединение\n",
    "print(\"Union\")\n",
    "all_birds = s.union(t)\n",
    "print(all_birds)\n",
    "all_birds = s | t # то же\n",
    "print(all_birds)\n",
    "\n",
    "# пересечение\n",
    "print(\"Intersection\")\n",
    "intersection_birds = s.intersection(t)\n",
    "print(intersection_birds)\n",
    "intersection_birds = s & t\n",
    "print(intersection_birds)\n",
    "\n",
    "# разность множеств\n",
    "print(\"Diff\")\n",
    "print(\"domestic - wild\", s.difference(t))\n",
    "print(\"wild - domestic\", t - s)\n",
    "print(\"wild - wild\", t - t)\n",
    "\n",
    "# симметрическая разность (XOR)\n",
    "print(\"XOR\")\n",
    "print(s.symmetric_difference(t))\n",
    "print(s ^ t)\n",
    "\n",
    "# Множество -- iterable, значит, его можно также обходить с помощью for ... in ..."
   ]
  },
  {
   "cell_type": "code",
   "execution_count": null,
   "metadata": {
    "collapsed": true
   },
   "outputs": [],
   "source": [
    "# Самостоятельная работа\n",
    "# Создайте с помощью range (подсказка: range также iterable) множество чисел a от 10 до 20\n",
    "# Создайте с помощью range множество чисел b от 15 до 35\n",
    "# Создайте с помощью range множество чисел c от 0 до 30\n",
    "\n",
    "# Распечатайте множество a\n",
    "# Распечатайте множество a с помощью for через пробел\n",
    "# Распечатайте множество a с помощью join через пробел\n",
    "\n",
    "# Самостоятельная работа\n",
    "# 1) Скачайте любое стихотворение/песню/любой текст, \n",
    "#    в которых есть повторяющиеся слова, и запишите в файл\n",
    "# 2) Удалите \"небуквенные\" символы (используя .replace(), например)\n",
    "# 3) Приведите всё в нижний регистр \n",
    "# 4) Разделите по \"пробельным символам\" -- получится список слов\n",
    "# 5) Распечатайте количество слов (длину списка)\n",
    "# 6) Распечатайте количество уникальных слов в тексте, подсчитав её с помощью множества"
   ]
  },
  {
   "cell_type": "code",
   "execution_count": 10,
   "metadata": {
    "collapsed": false
   },
   "outputs": [
    {
     "name": "stdout",
     "output_type": "stream",
     "text": [
      "{8, 2, 3, 10}\n",
      "Ops updating\n",
      "{2, 3} {98, 2, 4, 8, 9, 23}\n",
      "{2, 3, 98, 4, 8, 9, 23}\n",
      "{98, 2, 4, 8, 9, 23}\n",
      "set()\n",
      "set()\n"
     ]
    }
   ],
   "source": [
    "# Изменение множеств\n",
    "# Множество, у которого вызывается метод (add, pop, clear, ...) будет ИЗМЕНЕНО\n",
    "\n",
    "s = set([2, 3, 8])\n",
    "\n",
    "# добавление элемента в множество.\n",
    "s.add(10)\n",
    "print(s)\n",
    "\n",
    "# удаление; KeyError, если такого элемента не существует\n",
    "s.remove(10)\n",
    "\n",
    "# удаление, если есть; если такого элемента нет -- ничего не происходит\n",
    "s.discard(5)\n",
    "\n",
    "# Удаление первого элемента из множества. Возвращает этот элемент как результат.\n",
    "# Множества не упорядочены, поэтому нельзя точно сказать, какой элемент будет удалён.\n",
    "# Но бывает нужно сделать и такое.\n",
    "element = s.pop()\n",
    "\n",
    "# очистка множества\n",
    "# s.clear()\n",
    "\n",
    "print(\"Ops updating\")\n",
    "other = set([4, 23, 98, 2, 8, 9])\n",
    "\n",
    "print(s, other)\n",
    "\n",
    "# объединение и обновление в s\n",
    "s.update(other)\n",
    "s |= other \n",
    "print(s)\n",
    "\n",
    "# пересечение и обновление в s\n",
    "s.intersection_update(other)\n",
    "s &= other \n",
    "print(s)\n",
    "\n",
    "# разность и обновление\n",
    "s.difference_update(other)\n",
    "s -= other\n",
    "print(s)\n",
    "\n",
    "# симметрическая разность и обновление\n",
    "s.symmetric_difference_update(other)\n",
    "s ^= other\n",
    "print(s)"
   ]
  },
  {
   "cell_type": "raw",
   "metadata": {},
   "source": [
    "Есть и неизменяемые множества!\n",
    "\n",
    "frozenset\n",
    "\n",
    "То же самое, но без методов в клетке выше."
   ]
  },
  {
   "cell_type": "markdown",
   "metadata": {},
   "source": [
    "**Словари**\n",
    "\n",
    "Словарь -- коллекция, в которой доступ до элементов осуществляется не по индексу, как в списках,\n",
    "а по заданному ключу.\n",
    "\n",
    "Фактически словарь задаёт отображение над конечными множествами:\n",
    "\n",
    "Пусть\n",
    "ключи: ['key0', 'key1']\n",
    "значения: ['value0', 'value0']\n",
    "\n",
    "Тогда словарь, отображающий соответственно одно в другое\n",
    "\n",
    "    a = {'key0': 'value0', 'key1': 'value1'}\n",
    "\n",
    "И можно обращаться так\n",
    "\n",
    "    extracted_value = a['key0']\n",
    "\n",
    "в extracted value запишется 'value0'.\n",
    "\n",
    "Ключом может быть любой неизменяемый объект, не только строки! ints, tuples, frozensets, ..."
   ]
  },
  {
   "cell_type": "code",
   "execution_count": 11,
   "metadata": {
    "collapsed": false
   },
   "outputs": [
    {
     "name": "stdout",
     "output_type": "stream",
     "text": [
      "{'z': 'dictionary', 'a': 'hello'}\n",
      "{'some_key': 1, 'other_key': 4}\n",
      "{'key': None, 'another_key': None}\n",
      "{'z': 0, 'a': 0}\n"
     ]
    }
   ],
   "source": [
    "# Как создавать словари\n",
    "# старый знакомый -- новый пустой словарь\n",
    "d = {}\n",
    "# то же\n",
    "d = dict()\n",
    "\n",
    "# явно прописываем ключи и значения\n",
    "d = {'a': 1, 'z': 2}\n",
    "\n",
    "d = dict(a='hello', z='dictionary')\n",
    "print(d)\n",
    "\n",
    "d = dict([('some_key', 1), ('other_key', 4)])\n",
    "print(d)\n",
    "\n",
    "# своеобразный способ\n",
    "# задаём только ключи, значения проставляются None\n",
    "d = dict.fromkeys(['key', 'another_key'])\n",
    "print(d)\n",
    "\n",
    "# задаём ключи и одинаковое для всех значение\n",
    "d = dict.fromkeys(['a', 'z'], 0)\n",
    "print(d)"
   ]
  },
  {
   "cell_type": "code",
   "execution_count": 25,
   "metadata": {
    "collapsed": false
   },
   "outputs": [
    {
     "name": "stdout",
     "output_type": "stream",
     "text": [
      "4127\n",
      "{}\n",
      "True\n",
      "True\n",
      "\n",
      "Keys\n",
      "van\n",
      "Rossum\n",
      "\n",
      "What?!\n",
      "\n",
      "Values\n",
      "2\n",
      "3\n",
      "\n",
      "KV-pairs\n",
      "van -> 2\n",
      "Rossum -> 3\n"
     ]
    }
   ],
   "source": [
    "# работа со значениями\n",
    "tel = {}\n",
    "\n",
    "# кладём значение по ключу\n",
    "tel['guido'] = 4127\n",
    "print(tel['guido'])\n",
    "\n",
    "# удаляем ключ+значение по ключу\n",
    "del tel['guido']\n",
    "print(tel)\n",
    "\n",
    "tel['van'] = 2\n",
    "tel['Rossum'] = 3\n",
    "\n",
    "# можно получить все ключи в специальном объекте, \n",
    "# который удобно конвертировать в списки или множества, например\n",
    "# никакой порядок над ключами, как и в множестве, не гарантируется\n",
    "keys_as_list  = list(tel.keys())\n",
    "keys_as_set  = set(tel.keys())\n",
    "\n",
    "# можно проверять, есть ли ключ в словаре, не вызывая .keys\n",
    "print(('guido' in tel) == False)\n",
    "print(('van' not in tel) == False)\n",
    "\n",
    "# Also\n",
    "# d.values() - возвращает значения в словаре.\n",
    "# d.items() - возвращает пары (ключ, значение).\n",
    "\n",
    "print(\"\\nKeys\")\n",
    "\n",
    "for key in tel.keys():\n",
    "    print(key)\n",
    "\n",
    "print()\n",
    "print(\"What?!\")\n",
    "\n",
    "# Что будет распечатано?\n",
    "# Раскомментируйте\n",
    "for key in tel:\n",
    "#     print(key)\n",
    "    pass\n",
    "\n",
    "print()\n",
    "print(\"Values\")\n",
    "\n",
    "for v in tel.values():\n",
    "    print(v)\n",
    "\n",
    "print()\n",
    "print(\"KV-pairs\")\n",
    "\n",
    "for key, val in tel.items():\n",
    "    print(key, \"->\", val)"
   ]
  },
  {
   "cell_type": "code",
   "execution_count": 28,
   "metadata": {
    "collapsed": false
   },
   "outputs": [
    {
     "name": "stdout",
     "output_type": "stream",
     "text": [
      "{'van': 2, 'Rossum': 3}\n",
      "2\n",
      "45\n",
      "3 {'van': 2}\n",
      "3 {}\n"
     ]
    }
   ],
   "source": [
    "\"\"\"\n",
    "d.get(key[, default]) - возвращает значение ключа, но если его нет, не бросает исключение, \n",
    "                        а возвращает default (по умолчанию None).\n",
    "\n",
    "d.pop(key[, default]) - удаляет ключ и возвращает значение. \n",
    "                        Если ключа нет, возвращает default (по умолчанию бросает исключение).\n",
    "    \n",
    "d.popitem() - удаляет и возвращает пару (ключ, значение). \n",
    "                        Если словарь пуст, бросает исключение KeyError. Помните, что словари неупорядочены.\n",
    "\"\"\"\n",
    "print(tel)\n",
    "\n",
    "print(tel.get(\"van\"))\n",
    "print(tel.get(\"rossum\", 45))\n",
    "\n",
    "rossum_val = tel.pop(\"Rossum\")\n",
    "print(rossum_val, tel)\n",
    "\n",
    "van_item = tel.pop(\"van\")\n",
    "print(rossum_val, tel)\n",
    "\n",
    "# d.clear() - очищает словарь.\n",
    "# d.update([other]) - обновляет словарь, добавляя пары (ключ, значение) из other. \n",
    "#                     Существующие ключи перезаписываются. Возвращает None (не новый словарь!)."
   ]
  },
  {
   "cell_type": "code",
   "execution_count": 1,
   "metadata": {
    "collapsed": true
   },
   "outputs": [],
   "source": [
    "# Самостоятельная работа\n",
    "# Постройте словарь (например, с помощью for), \n",
    "# в котором для каждого натурального числа от 0 до 100 как ключа, \n",
    "# будет записан его квадрат как значение "
   ]
  },
  {
   "cell_type": "code",
   "execution_count": null,
   "metadata": {
    "collapsed": true
   },
   "outputs": [],
   "source": [
    "# Самостоятельная работа\n",
    "# Постройте словарь (например, с помощью for), \n",
    "# в котором для пар вещественных чисел x из [0, 1], y из [0, 1] \n",
    "# с шагом сетки 0.1, будет записаны их расстояния Минковского до (0, 0)\n",
    "# с любыми выбранными вами параметрами p, например,\n",
    "\n",
    "# (0.0, 1.0) : (1.0, 1.0, 1.0)\n",
    "# (в точке 0,1 расстояния до 0,0 по метрикам Минковского с параметрами p = 0.5, 1 и 2 равны единице)\n",
    "\n",
    "# Распечатайте словарь. Как бы вы поменяли представление, чтобы было удобно распечатать значения \"по сетке\"?"
   ]
  },
  {
   "cell_type": "markdown",
   "metadata": {},
   "source": [
    "**Функции**\n",
    "\n",
    "Способ вынесения куска кода, решающего \"цельную\" задачу.\n",
    "\n",
    "Выгода: \n",
    "- деление кода на осмысленные части по решаемым задачам (проще отлаживать)\n",
    "- переиспользование одного и того же кода\n",
    "\n",
    "Что нужно задать:\n",
    "- уникальное в модуле имя\n",
    "- список параметров\n",
    "- возвращаемый результат"
   ]
  },
  {
   "cell_type": "code",
   "execution_count": 5,
   "metadata": {
    "collapsed": false
   },
   "outputs": [
    {
     "name": "stdout",
     "output_type": "stream",
     "text": [
      "<function return_hello at 0x7f73904d9e18>\n",
      "Hello HSE\n"
     ]
    }
   ],
   "source": [
    "# говорим, что определяем функцию с именем return_hello, у которой есть параметр name\n",
    "# она возвращает строковое значение, склеенное из \"Hello \" и параметра\n",
    "def return_hello(name):\n",
    "    return \"Hello \" + name\n",
    "\n",
    "# тут нам скажут, что функция -- это такой же объект, как и всё остальное\n",
    "print(return_hello)\n",
    "\n",
    "# тут нам скажут, что мы не определили параметры\n",
    "# print(return_hello())\n",
    "\n",
    "# а вот тут нам распечатают то, что надо\n",
    "print(return_hello(\"HSE\"))\n",
    "\n",
    "# Вопрос: а что будет, если мы передадим в качестве аргумента, скажем, число, а не строку?"
   ]
  },
  {
   "cell_type": "code",
   "execution_count": 7,
   "metadata": {
    "collapsed": false
   },
   "outputs": [
    {
     "name": "stdout",
     "output_type": "stream",
     "text": [
      "Hello students\n"
     ]
    }
   ],
   "source": [
    "# в паскале были процедуры, во всяких си-подобных языках есть тип void...\n",
    "# функция, которая ничего не возвращает (но, например, меняет объекты или что-то печатает),\n",
    "# тоже имеет право на жизнь\n",
    "\n",
    "def print_hello(name):\n",
    "    print(\"Hello \" + name)\n",
    "    # просто не пишем return, и функция вернёт None\n",
    "\n",
    "print_hello(\"students\")"
   ]
  },
  {
   "cell_type": "code",
   "execution_count": 16,
   "metadata": {
    "collapsed": false
   },
   "outputs": [],
   "source": [
    "# Чтобы понять, что делать можно, а что нельзя, представим, что хотим написать свой range, \n",
    "# который возвращает списки, а не генераторы.\n",
    "# У него бывает от одного до трёх аргументов, и у нас будет так же.\n",
    "def list_range(n):\n",
    "    return list(range(n))\n",
    "\n",
    "def list_range(m, n):\n",
    "    return list(range(m, n))\n",
    "\n",
    "# Oops! выходит, мы просто переопределили функцию, прежняя затёрлась\n",
    "print(list_range(8))\n",
    "# имя должно быть уникальным, но как-то же задача решается..."
   ]
  },
  {
   "cell_type": "code",
   "execution_count": 19,
   "metadata": {
    "collapsed": false
   },
   "outputs": [
    {
     "ename": "SyntaxError",
     "evalue": "non-default argument follows default argument (<ipython-input-19-fe19e745260f>, line 4)",
     "output_type": "error",
     "traceback": [
      "\u001b[0;36m  File \u001b[0;32m\"<ipython-input-19-fe19e745260f>\"\u001b[0;36m, line \u001b[0;32m4\u001b[0m\n\u001b[0;31m    def list_range(frm=0, to, step=1):\u001b[0m\n\u001b[0m                  ^\u001b[0m\n\u001b[0;31mSyntaxError\u001b[0m\u001b[0;31m:\u001b[0m non-default argument follows default argument\n"
     ]
    }
   ],
   "source": [
    "# на помощь придут параметры по умолчанию\n",
    "# это тот случай, когда \"=\" не надо окружать пробелами\n",
    "\n",
    "def list_range(frm=0, to, step=1):\n",
    "    return list(range(frm, to, step))\n",
    "\n",
    "# Опять проблема. SyntaxError: non-default argument follows default argument\n",
    "# Все обязательные параметры (без значений по умолчанию) должны идти в начале списка\n",
    "# print(list_range(0, 10, 1))"
   ]
  },
  {
   "cell_type": "code",
   "execution_count": 20,
   "metadata": {
    "collapsed": false
   },
   "outputs": [
    {
     "name": "stdout",
     "output_type": "stream",
     "text": [
      "[0, 1, 2, 3, 4]\n",
      "[2, 3, 4]\n",
      "[0, 1, 2]\n"
     ]
    }
   ],
   "source": [
    "# решим проблему некрасиво\n",
    "\n",
    "def list_range(arg0, arg1=None, arg2=None):\n",
    "    if arg1 is None:\n",
    "        return list(range(arg0))\n",
    "    elif arg2 is None:\n",
    "        return list(range(arg0, arg1))\n",
    "    else:\n",
    "        return list(range(arg0, arg1, arg2))\n",
    "\n",
    "print(list_range(5))\n",
    "print(list_range(2, 5))\n",
    "print(list_range(0, 3, 1))"
   ]
  },
  {
   "cell_type": "code",
   "execution_count": 28,
   "metadata": {
    "collapsed": false
   },
   "outputs": [
    {
     "name": "stdout",
     "output_type": "stream",
     "text": [
      "Dear Python Pylekseev!\n",
      "\n",
      "You have been fired from your current job as a Jython teacher at RMSE.\n",
      "\n",
      "Best regards,\n",
      "    Big Boss.\n",
      "\n",
      "Dear Sir/Madame!\n",
      "\n",
      "You have been fired from your current job as a Jython teacher at RMSE.\n",
      "\n",
      "Best regards,\n",
      "    Big Boss.\n"
     ]
    }
   ],
   "source": [
    "# пример разумного использования параметров по умолчанию\n",
    "def build_letter(fromm, name_or_sir_or_madame='Sir/Madame'):\n",
    "    response = \"Dear \" + name_or_sir_or_madame + \"!\\n\\n\" \n",
    "    response += \"You have been fired from your current job as a Jython teacher at RMSE.\\n\\n\"\n",
    "    response += \"Best regards,\\n    \" + fromm + \".\"\n",
    "    return response\n",
    "\n",
    "print(build_letter(\"Big Boss\", \"Python Pylekseev\"))\n",
    "print()\n",
    "print(build_letter(\"Big Boss\"))"
   ]
  },
  {
   "cell_type": "code",
   "execution_count": null,
   "metadata": {
    "collapsed": true
   },
   "outputs": [],
   "source": [
    "# Самостоятельная работа\n",
    "# Написать функцию, которая печатает (то есть без return) \n",
    "# для заданных n_witches и step_witches \n",
    "\"\"\"\n",
    "1 little\n",
    "2 little\n",
    "...\n",
    "step_witches little witches\n",
    "step_witches+1 little\n",
    "...\n",
    "\n",
    "n_witches witches in the sky\n",
    "\n",
    "То есть для КАЖДЫХ step_witches шагов писать не little, a little witches\n",
    "А в конце -- witches in the sky.\n",
    "\n",
    "Можно заводить дополнительные функции.\n",
    "\"\"\"\n",
    "\n",
    "def witches_song(n_witches, step_witches):\n",
    "    pass"
   ]
  },
  {
   "cell_type": "code",
   "execution_count": null,
   "metadata": {
    "collapsed": true
   },
   "outputs": [],
   "source": [
    "# Самостоятельная работа\n",
    "# Функция с параметрами: \n",
    "# - вектор(вектор =  список в нашем случае), \n",
    "# - список векторов,\n",
    "# - параметр-строка, задающий метрику: \"l1\" или \"l2\" (евклидова; и это значение по умолчанию)\n",
    "# ФУНКЦИЯ возвращает ближайший к вектору-параметру вектор из списка-параметра (пусть вас не смущает полный перебор)\n",
    "\n",
    "# Задать функцию, проверить, что она работает на простых примерах, и запустить на случайных векторах\n",
    "# Подсказка: метрики тоже можно вычислять в отдельных функциях"
   ]
  },
  {
   "cell_type": "code",
   "execution_count": 2,
   "metadata": {
    "collapsed": false
   },
   "outputs": [
    {
     "data": {
      "text/plain": [
       "' Не рекомендуется к запуску!\\n\\nrows = 100500\\ncols = 100000\\nmatrix_a = []\\nfor row in range(rows):\\n    matrix_a.append([0] * cols)\\n\\n'"
      ]
     },
     "execution_count": 2,
     "metadata": {},
     "output_type": "execute_result"
    }
   ],
   "source": [
    "# Самостоятельная работа: надо обязательно обернуть всю работу с матрицами в осмысленные функции!\n",
    "\n",
    "# У вас есть матрица, скажем, размера 100500 x 100000, в память не поместится.\n",
    "# Известно, что у неё очень мало ненулей\n",
    "\n",
    "\"\"\" Не рекомендуется к запуску!\n",
    "\n",
    "rows = 100500\n",
    "cols = 100000\n",
    "matrix_a = []\n",
    "for row in range(rows):\n",
    "    matrix_a.append([0] * cols)\n",
    "\n",
    "\"\"\"\n",
    "\n",
    "# 1) подумайте, как бы вы её представили с помощью словарей так, чтобы она уместилась в память, \n",
    "#    и чтобы у вас был очень быстрый доступ к элементам по индексам, расскажите преподавателю\n",
    "# 2) прочитайте матрицу A из файла, представив \"новым\" способом\n",
    "# 3) транспонируйте её\n",
    "# 4) запишите полученную матрицу B в новый файл\n",
    "# 4.5) подумайте, как бы вы её представили так, чтобы вы могли эффективно \n",
    "#     умножать такие матрицы друг на друга (с потерями в скорости доступа); хватит ли здесь одного представления?\n",
    "# 5) запрограммируйте \"умножение\" A на B (в прежнем или новом виде) -- \n",
    "#    и проверьте корректность на каких-нибудь своих маленьких матрицах\n",
    "# 6) запишите и AB в файл"
   ]
  }
 ],
 "metadata": {
  "kernelspec": {
   "display_name": "Python 3",
   "language": "python",
   "name": "python3"
  },
  "language_info": {
   "codemirror_mode": {
    "name": "ipython",
    "version": 3
   },
   "file_extension": ".py",
   "mimetype": "text/x-python",
   "name": "python",
   "nbconvert_exporter": "python",
   "pygments_lexer": "ipython3",
   "version": "3.5.2"
  }
 },
 "nbformat": 4,
 "nbformat_minor": 0
}
