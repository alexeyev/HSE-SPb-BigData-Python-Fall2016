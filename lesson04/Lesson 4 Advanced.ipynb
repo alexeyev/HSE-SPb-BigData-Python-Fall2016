{
 "cells": [
  {
   "cell_type": "code",
   "execution_count": null,
   "metadata": {
    "collapsed": true
   },
   "outputs": [],
   "source": [
    "\"\"\"\n",
    "Задача 1.\n",
    "\n",
    "1) \"Руками\" скачать http://lib.ru/CARROLL/anya.txt -- и сохранить в текстовый файл.\n",
    "Построить список нормализованных слов с помощью mystem.lemmatize https://nlpub.ru/Mystem#Python (+ см. ниже)\n",
    "Подсчитать статистику по словам, по биграммам -- парам подряд идущих слов (для вывода в консоль можно взять топ-n по частотам)\n",
    "(Подсказка: мы не проходили dict-ы, поэтому частоты можно считать, \n",
    "отсортировав список sorted(mylist) и пройдя по нему циклом со счётчиком а потом отсортировать по частотам;\n",
    "[\"a\", \"a\", \"bcd\", \"cde\", \"cde\", \"cde\"] -> [(2, \"a\"), (1, \"bcd\"), (3, \"cde\")] -> [(3, \"cde\"), (2, \"a\"), (1, \"bcd\")]\n",
    " использование словарей не воспрещается, впрочем).\n",
    " \n",
    "Служебные части речи и прочие \"стоп-слова\" можно заменить на особое \n",
    "ничего не значащее слово (например, PROBLEMOFFICER). И не вносить ни его, ни биграмм с его \"участием в статистику\".\n",
    "\n",
    "2) Эвристически разбить книжку на главы. Каждую главу записать в отдельный файл средствами Python.\n",
    "\n",
    "3) Используя код из пункта (1), для каждого файла посчитать статистику частот встречаемости слов и пар слов.\n",
    "\n",
    "Как поставить (что-то одно должно работать):\n",
    "\n",
    "pip install pymystem3\n",
    "или\n",
    "pip3 install pymystem3\n",
    "или\n",
    "conda install ... [todo:google it]\n",
    "\"\"\"\n",
    "\n",
    "import pymystem3 # при необходимости надо установить с помощью conda\n"
   ]
  },
  {
   "cell_type": "code",
   "execution_count": null,
   "metadata": {
    "collapsed": true
   },
   "outputs": [],
   "source": [
    "\"\"\"\n",
    "Задача 2. \n",
    "Скачать любую длинную статью и сохранить в файл.\n",
    "\n",
    "(1) Используя её в качестве \"обучающих данных\", реализовать свой собственный \n",
    "эвристический алгоритм разбиения текста на предложения.\n",
    "\n",
    "Проверить его качество \"на глазок\", применив к другой статье. Добавить ещё эвристик.\n",
    "Проверить на ещё одной статье.\n",
    "\n",
    "(2*) Реализовать метод извлечения ключевых слов RAKE и применить ко всем статьям \n",
    "(могут понадобиться гугл и рассказ преподавателя о том, что такое dict in python).\n",
    "\"\"\""
   ]
  },
  {
   "cell_type": "code",
   "execution_count": null,
   "metadata": {
    "collapsed": true
   },
   "outputs": [],
   "source": [
    "\"\"\"\n",
    "Задача 3.\n",
    "Дана строка с кодом на чём-то вроде lisp:\n",
    "\n",
    "list := (some_word ARG_0 ARG_1 ... ARG_N) | () // либо одно, либо другое\n",
    "ARG := list | some_number | some_string // либо одно, либо другое\n",
    "\n",
    "-------\n",
    "\n",
    "Например:\n",
    "(print 100)\n",
    "или\n",
    "(print (array 0 (mult 1000 500)) (file \"out.txt\"))\n",
    "\n",
    "Отформатировать её так, чтобы каждый 'list' начинается с новой строчки. \n",
    "Новый уровень вложенности -- новый отступ. \"Выход\" из него -- минус отступ.\n",
    "При этом закрывающая скобочка не должна оставаться одна на строке.\n",
    "inb4: для красивого форматирования лиспа немного другие правила.\n",
    "\n",
    "Пример:\n",
    "(print \n",
    "    (array 0 \n",
    "        (mult 1000 500)) \n",
    "        (file \"out.txt\"))\n",
    "\"\"\"\n",
    "input_line = '(print (array 0 (mult 1000 500)) (file \"out.txt\" \"and.txt\" \"about.bin\"))'"
   ]
  },
  {
   "cell_type": "code",
   "execution_count": null,
   "metadata": {
    "collapsed": true
   },
   "outputs": [],
   "source": [
    "\"\"\"\n",
    "Задача 4*. Oldschool Hyperspace Analogue to Language\n",
    "On request. Понадобится дополнительный рассказ.\n",
    "https://en.wikipedia.org/wiki/Semantic_memory#Hyperspace_Analogue_to_Language_.28HAL.29\n",
    "\"\"\""
   ]
  }
 ],
 "metadata": {
  "kernelspec": {
   "display_name": "Python 3",
   "language": "python",
   "name": "python3"
  },
  "language_info": {
   "codemirror_mode": {
    "name": "ipython",
    "version": 3
   },
   "file_extension": ".py",
   "mimetype": "text/x-python",
   "name": "python",
   "nbconvert_exporter": "python",
   "pygments_lexer": "ipython3",
   "version": "3.5.2"
  }
 },
 "nbformat": 4,
 "nbformat_minor": 0
}
