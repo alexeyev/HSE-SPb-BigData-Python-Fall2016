{
 "cells": [
  {
   "cell_type": "code",
   "execution_count": 1,
   "metadata": {
    "collapsed": false
   },
   "outputs": [],
   "source": [
    "\"\"\"\n",
    "* Успехи с бинарным поиском?\n",
    "* Что сделали дома [в том числе обещанные 'хвосты']?\n",
    "----\n",
    "Занятие 4. Строки и текстовые файлы.\n",
    "\n",
    "К строкам можно относитьтся как к неизменяемым спискам...\n",
    "\"\"\"\n",
    "\n",
    "# можно одинарные кавычки, можно двойные -- всё равно\n",
    "line0 = \"Because you're mine, \"\n",
    "line1 = 'I walk the line'\n",
    "\n",
    "# например, удобно делать так\n",
    "line2 = \"She said: 'Yeah!'\"\n",
    "line3 = '\"Dum deedle dee dum dum!\"'\n",
    "\n",
    "# или так -- с сохранением переводов строки\n",
    "line4 = \"\"\"\n",
    "Читайте!\n",
    "         Завидуйте!\n",
    "\"\"\"\n",
    "print(line4)\n",
    "\n",
    "# конкатенация\n",
    "print(\"Concatted:\", line0 + line1)\n",
    "\n",
    "# Вопрос к залу!\n",
    "# сработает ли append? сработает ли extend?\n",
    "\n",
    "# доступ по индексу\n",
    "print(\"Index = 3:\", line0[3])\n",
    "\n",
    "# проход циклами\n",
    "for sym in line1:\n",
    "    print(sym)\n",
    "\n",
    "print()\n",
    "\n",
    "for i in range(len(line0)):\n",
    "    print(i, \" \" * i, line0[i])"
   ]
  },
  {
   "cell_type": "code",
   "execution_count": 10,
   "metadata": {
    "collapsed": false
   },
   "outputs": [
    {
     "name": "stdout",
     "output_type": "stream",
     "text": [
      "На берегу пустынных волн\n",
      "['Н', 'а', ' ', 'б', 'е', 'р', 'е', 'г', 'у', ' ', 'п', 'у', 'с', 'т', 'ы', 'н', 'н', 'ы', 'х', ' ', 'в', 'о', 'л', 'н']\n",
      "На берегу\n",
      "берегу\n"
     ]
    },
    {
     "data": {
      "text/plain": [
       "'\\ndel example_string[3:9]\\nprint(example_string)\\n'"
      ]
     },
     "execution_count": 10,
     "metadata": {},
     "output_type": "execute_result"
    }
   ],
   "source": [
    "\"\"\"\n",
    "\n",
    " ...но строка -- это не просто кортеж символов, а набор \n",
    " байтов с подразумеваемой кодировкой, и отсюда особенности\n",
    " работы с ними.\n",
    " \n",
    " Например, в кодировке UTF-8 символы кодируются переменным \n",
    " числом байтов.\n",
    " \n",
    " Во втором питоне случается такое:\n",
    " \n",
    ">>> a = \"привет\"\n",
    ">>> b = u\" HSE\"\n",
    ">>> a + b\n",
    "Traceback (most recent call last):\n",
    "  File \"<stdin>\", line 1, in <module>\n",
    "UnicodeDecodeError: 'ascii' codec can't decode byte 0xd0 in position 0: ordinal not in range(128)\n",
    "\n",
    "  Потому что по умолчанию \"неюникодную\" строку при конкатенации попытаются \n",
    "  сконвертировать в ASCII, куда не входит кириллица.\n",
    "  \n",
    "  ----------\n",
    "  \n",
    "  Но в третьем питоне с этим дела обстоят иначе: там всё юникод.\n",
    "  Меньше мучений для обычных задач, но не так просто работать с \"байтовыми\" строками.\n",
    "  \n",
    "\"\"\"\n",
    "\n",
    "example_string = \"На берегу пустынных волн\"\n",
    "\n",
    "print(example_string)\n",
    "\n",
    "print(list(example_string))\n",
    "\n",
    "print(example_string[:9])\n",
    "\n",
    "print(example_string[3:9])\n",
    "\n",
    "# Что произойдёт и почему?\n",
    "\"\"\"\n",
    "del example_string[3:9]\n",
    "print(example_string)\n",
    "\"\"\""
   ]
  },
  {
   "cell_type": "code",
   "execution_count": null,
   "metadata": {
    "collapsed": true
   },
   "outputs": [],
   "source": [
    "\"\"\"\n",
    " Для работы со строками есть много разных методов\n",
    "\"\"\"\n",
    "\n",
    "# отбрасывание whitespaces\n",
    "s = \"   ад для перфекциониста \"\n",
    "print(\"[\" + s.strip() + \"]\")\n",
    "\n",
    "\"\"\"\n",
    ".lstrip([chars]) Удаление пробельных символов в начале строки\n",
    ".rstrip([chars]) Удаление пробельных символов в конце строки\n",
    "\"\"\""
   ]
  },
  {
   "cell_type": "code",
   "execution_count": null,
   "metadata": {
    "collapsed": true
   },
   "outputs": [],
   "source": [
    "# разбиение в список строк по выбранной подстроке\n",
    "s = \"швед, русский колет, рубит, режет\"\n",
    "print(s.split(\" \"))\n",
    "print(s.split(\",\"))"
   ]
  },
  {
   "cell_type": "code",
   "execution_count": 17,
   "metadata": {
    "collapsed": false
   },
   "outputs": [
    {
     "name": "stdout",
     "output_type": "stream",
     "text": [
      "раз? - два? - три\n",
      "(\"'\\xd1\\x87', \\xd0\\xbf\\xd0\\xb5\\xd1\\x80\\xd0\\xb2\\xd0\\xbe\\xd0\\xb5 \\xd0\\xb2\\xd1\\x85\\xd0\\xbe\\xd0\\xb6\\xd0\\xb4\\xd0\\xb5\\xd0\\xbd\\xd0\\xb8\\xd0\\xb5\", 0)\n",
      "13\n",
      "89\n",
      "четыре\n",
      "чёрненьких\n",
      "чумазеньких\n",
      "чертёнка\n",
      "чертили\n",
      "чернилами\n",
      "чертёж\n",
      "- Нечестивые доумки, благодарю вас за службу, которую вы сослужили м  и\n",
      "королеве Неряхе. Ваша служба была  сплошным  потребством,  именно  здесь,  в\n",
      "совете доумков, я услышал такие лепости, такие  сусветные  суразицы,  что,\n",
      "хоть я и сам человек вежественный, но и  я  поражался  вашему  задачливому\n",
      "уму. Именно благодаря вам у  нас  в  королевстве  такая  разбериха,  такие\n",
      "взгоды, поладки и урядицы, - благодаря вашей уклюжести, умолимости и <...>, я \n",
      "побоюсь этого слова, укоснительности в решении важных вопросов.\n"
     ]
    }
   ],
   "source": [
    "\"\"\"\n",
    "    Другие распространённые методы\n",
    "\"\"\"\n",
    "\n",
    "# склеивание \"через\" выбранную строку \n",
    "print(\"? - \".join([\"раз\", \"два\", \"три\"]))\n",
    "# print(\" \".join([1, 2, 3])) # ?\n",
    "\n",
    "# довольно полезные методы\n",
    "# .find(str, [start],[end]) # Поиск подстроки в строке. Возвращает номер первого вхождения или -1\n",
    "ch_string = \"четыре чёрненьких чумазеньких чертёнка чертили чёрными чернилами чертёж\"\n",
    "\n",
    "print(\"'ч', первое вхождение\", ch_string.find(\"ч\"))\n",
    "\n",
    "curr_index = 0\n",
    "\n",
    "# все вхождения\n",
    "while True:\n",
    "    curr_index = ch_string.find(\"чё\", curr_index)\n",
    "    if curr_index == -1:\n",
    "        break\n",
    "    print(curr_index)\n",
    "    curr_index += 1\n",
    "\n",
    "\"\"\"\n",
    ".rfind(str, [start],[end])  Поиск подстроки в строке. Возвращает номер последнего вхождения или -1\n",
    ".index(str, [start],[end])  Поиск подстроки в строке. Возвращает номер первого вхождения или вызывает ValueError\n",
    ".rindex(str, [start],[end]) Поиск подстроки в строке. Возвращает номер последнего вхождения или вызывает ValueError\n",
    "\n",
    "\n",
    ".startswith(str) Начинается ли строка S с шаблона str\n",
    ".endswith(str)   Заканчивается ли строка S шаблоном str\n",
    "\"\"\"\n",
    "\n",
    "# все слова начинающиеся на строку и заканчивающиеся на другую строку\n",
    "for word in ch_string.split(\" \"):\n",
    "    if word.startswith(\"че\"):\n",
    "        print(word)\n",
    "    if word.endswith(\"ких\"):\n",
    "        print(word.upper())\n",
    "        \n",
    "\"\"\"\n",
    ".replace(шаблон, замена)\tЗамена шаблона\n",
    "\"\"\"\n",
    "\n",
    "krivin_godyay_tale = \"\"\"- Нечестивые недоумки, благодарю вас за службу, которую вы сослужили мне  и\n",
    "королеве Неряхе. Ваша служба была  сплошным  непотребством,  именно  здесь,  в\n",
    "совете недоумков, я услышал такие нелепости, такие  несусветные  несуразицы,  что,\n",
    "хоть я и сам человек невежественный, но и  я  поражался  вашему  незадачливому\n",
    "уму. Именно благодаря вам у  нас  в  королевстве  такая  неразбериха,  такие\n",
    "невзгоды, неполадки и неурядицы, - благодаря вашей неуклюжести, неумолимости и <...>, я не\n",
    "побоюсь этого слова, неукоснительности в решении важных вопросов.\"\"\"\n",
    "\n",
    "# Может, можно силами replace сделать это получше?\n",
    "print(krivin_godyay_tale.replace(\"не\", \"\"))\n",
    "\n",
    "# другое\n",
    "\n",
    "\"\"\"\n",
    "S.title() \t\t# Первую букву каждого слова (NB!) переводит в верхний регистр, а все остальные в нижний\n",
    "S.upper() \t\t# Преобразование строки к верхнему регистру\n",
    "S.lower() \t\t# Преобразование строки к нижнему регистру\n",
    "S.swapcase() \t# Переводит символы нижнего регистра в верхний, а верхнего – в нижний\n",
    "S.capitalize() \t# Переводит первый символ строки в верхний регистр, а все остальные в нижний\n",
    "S.center(width, [fill]) # Возвращает отцентрованную строку, по краям которой стоит символ fill (пробел по умолчанию)\n",
    "\"\"\"\n",
    "\n",
    "\"\"\"\n",
    "Убедитесь на досуге, что работают эти методы, возвращающие булевское значение:\n",
    ".isdigit() # Состоит ли строка из цифр\n",
    ".isalpha() # Состоит ли строка из букв\n",
    ".isalnum() # Состоит ли строка из цифр или букв\n",
    ".islower() # Состоит ли строка из символов в нижнем регистре\n",
    ".isupper() # Состоит ли строка из символов в верхнем регистре\n",
    ".isspace() # Состоит ли строка из неотображаемых символов (всякие пробелы)\n",
    ".istitle() # Начинаются (NB!) ли слова в строке с заглавной буквы\n",
    "\"\"\"\n",
    "pass"
   ]
  },
  {
   "cell_type": "code",
   "execution_count": null,
   "metadata": {
    "collapsed": true
   },
   "outputs": [],
   "source": [
    "\"\"\"\n",
    "Самостоятельная работа\n",
    "Дана строка, постройте \"перевёрнутую строку\"\n",
    "Пример: abcd -> dcba\n",
    "\"\"\"\n",
    "s = \"И у облаков -- вокал Боуи\""
   ]
  },
  {
   "cell_type": "code",
   "execution_count": null,
   "metadata": {
    "collapsed": true
   },
   "outputs": [],
   "source": [
    "\"\"\"\n",
    "Самостоятельная работа\n",
    "Дана строка s, построить список строк из пар подряд идущих символов s [не внахлёст]\n",
    "Пример: \"abcsd\" -> [\"ab\", \"cs\", \"d\"]\n",
    "\"\"\"\n",
    "s = \"Биликопытапели\""
   ]
  },
  {
   "cell_type": "markdown",
   "metadata": {
    "collapsed": false
   },
   "source": [
    "Тут можно дать много классных задач, но надо обязательно попробовать поработать с файлами.\n",
    "Прочие методы можно при необходимости либо посмотреть в доках, либо погуглить, либо узнать у преподавателя.\n"
   ]
  },
  {
   "cell_type": "markdown",
   "metadata": {
    "collapsed": true
   },
   "source": [
    "Есть много нюансов в работе с файлами.\n",
    "Рассмотрим минимальный набор инструментов для работы с текстовыми файлами."
   ]
  },
  {
   "cell_type": "code",
   "execution_count": 8,
   "metadata": {
    "collapsed": false
   },
   "outputs": [],
   "source": [
    "# чтение файла построчно\n",
    "\n",
    "input_f = open(\"hello.txt\", \"r\")\n",
    "\n",
    "lines_limit = 40\n",
    "\n",
    "for line in input_f:\n",
    "    if lines_limit <= 0:\n",
    "        break\n",
    "    print(line)\n",
    "    print(line.strip().split(\" \"))"
   ]
  },
  {
   "cell_type": "code",
   "execution_count": 10,
   "metadata": {
    "collapsed": false
   },
   "outputs": [],
   "source": [
    "# чтение файла целиком -- осторожно!\n",
    "\n",
    "input_f = open(\"hello.txt\", \"r\")\n",
    "\n",
    "print(input_f.read()[:100])"
   ]
  },
  {
   "cell_type": "code",
   "execution_count": 12,
   "metadata": {
    "collapsed": false
   },
   "outputs": [],
   "source": [
    "# явное зачитывание строчек как список\n",
    "\n",
    "input_f = open(\"hello.txt\", \"r\")\n",
    "\n",
    "print(input_f.readlines())"
   ]
  },
  {
   "cell_type": "code",
   "execution_count": 13,
   "metadata": {
    "collapsed": true
   },
   "outputs": [],
   "source": [
    "# запись файла\n",
    "# при открытии на запись файл будет очищен\n",
    "out_f = open(\"say_bye_to_your_data.txt\", \"w\")\n",
    "lines_limit = 40\n",
    "\n",
    "\n",
    "for line_count in range(lines_limit):\n",
    "    out_f.write(str(line_count) + \"\\n\")\n",
    "    \n",
    "# что наблюдаем, если открыть файл?\n",
    "# скорее всего, ничего. buffering!\n",
    "# урок -- не надо забывать закрывать открытые на запись файлы!"
   ]
  },
  {
   "cell_type": "code",
   "execution_count": 14,
   "metadata": {
    "collapsed": true
   },
   "outputs": [],
   "source": [
    "# однако файл закроется сам при потере указателя \n",
    "# на него... но явное лучше неявного!\n",
    "\n",
    "# 'with' way is the right way\n",
    "\n",
    "with open(\"say_hi_to_your_data.txt\", \"w\") as out_f:\n",
    "    lines_limit = 40\n",
    "\n",
    "    for line_count in range(lines_limit):\n",
    "        out_f.write(str(line_count) + \"\\n\")\n",
    "\n",
    "# при выходе из with вызывается закрытие файла"
   ]
  },
  {
   "cell_type": "markdown",
   "metadata": {
    "collapsed": true
   },
   "source": [
    "Какие ещё бывают варианты для чтения файла?"
   ]
  },
  {
   "cell_type": "code",
   "execution_count": 15,
   "metadata": {
    "collapsed": true
   },
   "outputs": [],
   "source": [
    "# со стандартным выводом мы знакомы -- print()\n",
    "# стандартный ввод читается так же, как файл\n",
    "# for x in sys.stdin, read(), readlines()\n",
    "\n",
    "import sys\n",
    "\n",
    "for line in sys.stdin:\n",
    "    print(line)"
   ]
  },
  {
   "cell_type": "code",
   "execution_count": null,
   "metadata": {
    "collapsed": true
   },
   "outputs": [],
   "source": [
    "\"\"\"\n",
    "Самостоятельная работа\n",
    "Создать текстовый файл, наполнить чем угодно. \n",
    "Записать его содержимое в другой файл, строки -- обратном порядке.\n",
    "\"\"\"\n",
    "with open(\"hello.txt\", \"r\") as inp_file:\n",
    "    pass # не делает ничего"
   ]
  },
  {
   "cell_type": "code",
   "execution_count": 16,
   "metadata": {
    "collapsed": false
   },
   "outputs": [
    {
     "name": "stdout",
     "output_type": "stream",
     "text": [
      "[3, 0, 4, 2, 1]\n"
     ]
    }
   ],
   "source": [
    "\"\"\"\n",
    "Самостоятельная работа \"метод нарезок\".\n",
    "Создать текстовый файл, наполнить чем угодно. \n",
    "\n",
    "Разбить на n равных по количеству строк частей.\n",
    "Случайным образом перемешать (см. ниже), склеить и записать в новый файл.\n",
    "\"\"\"\n",
    "import random\n",
    "n = 5\n",
    "indices = list(range(n))\n",
    "\n",
    "random.shuffle(indices)\n",
    "print(indices)"
   ]
  },
  {
   "cell_type": "code",
   "execution_count": null,
   "metadata": {
    "collapsed": true
   },
   "outputs": [],
   "source": [
    "\"\"\"\n",
    "Самостоятельная работа: kinda punto switcher \n",
    "Создать питоновский файл, написать в него программу, \n",
    "которая в вечном цикле (for something in sys.stdin) \n",
    "ждёт очередного текста из стандартного ввода и выводит \n",
    "его в латинской раскладке.\n",
    "\"\"\""
   ]
  },
  {
   "cell_type": "code",
   "execution_count": null,
   "metadata": {
    "collapsed": true
   },
   "outputs": [],
   "source": [
    "\"\"\"\n",
    "Самостоятельная работа: brackets pretty printer\n",
    "Тоже файл с вечным циклом. На вход подают т.н. правильную \n",
    "скобочную последовательность (нет нарушений во вложенности скобок\n",
    "вроде \")())\") -- и в одну строчку.\n",
    "\n",
    "Мы распечатываем \"красиво\" (ну как \"красиво\"): \n",
    "1) каждая скобка с новой строки, \n",
    "2) открывающаяся увеличивает отступ,\n",
    "3) закрывающаяся -- уменьшает.\n",
    "\n",
    "Пример: ()(()()) ->\n",
    "(\n",
    ")\n",
    "(\n",
    "    (\n",
    "    )\n",
    "    (\n",
    "    )\n",
    ")\n",
    "\"\"\""
   ]
  },
  {
   "cell_type": "code",
   "execution_count": null,
   "metadata": {
    "collapsed": true
   },
   "outputs": [],
   "source": [
    "\"\"\"\n",
    "*Самостоятельная работа\n",
    "Проверить правильность скобочной последовательности\n",
    "\"\"\""
   ]
  }
 ],
 "metadata": {
  "kernelspec": {
   "display_name": "Python 2",
   "language": "python",
   "name": "python2"
  },
  "language_info": {
   "codemirror_mode": {
    "name": "ipython",
    "version": 2
   },
   "file_extension": ".py",
   "mimetype": "text/x-python",
   "name": "python",
   "nbconvert_exporter": "python",
   "pygments_lexer": "ipython2",
   "version": "2.7.6"
  }
 },
 "nbformat": 4,
 "nbformat_minor": 0
}
