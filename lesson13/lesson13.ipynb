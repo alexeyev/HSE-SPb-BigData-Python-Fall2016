{
 "cells": [
  {
   "cell_type": "markdown",
   "metadata": {},
   "source": [
    "### Нежное введение в ту часть машинного обучения\n",
    "#### задачи из которой решает sklearn\n",
    "* Supervised learning: classification/regression\n",
    "* Unsupervised learning (for structure discovery and visualization): clustering, dimensionality reduction, etc.\n",
    "\n",
    "#### Задачи, которые обычно относят к машинному обучению -- в одной куче (wiki):\n",
    "* **Classification **\n",
    "* **Clustering **\n",
    "* **Regression **\n",
    "* Anomaly detection \n",
    "* Association rules \n",
    "* Reinforcement learning \n",
    "* Structured prediction \n",
    "* **Feature engineering **\n",
    "* Feature learning \n",
    "* Online learning \n",
    "* **Semi-supervised learning** \n",
    "* **Unsupervised learning** \n",
    "* Learning to rank \n",
    "* Grammar induction"
   ]
  },
  {
   "cell_type": "markdown",
   "metadata": {},
   "source": [
    "Настоятельно рекомендую ознакомиться:\n",
    "https://www.coursera.org/learn/vvedenie-mashinnoe-obuchenie/home/week/7\n",
    "А лучше вообще пройти весь курс.\n",
    "\n",
    "Нужно понять\n",
    "1. какую задачу мы решаем;\n",
    "2. как мы будем оценивать свои успехи (может, нам вовсе и не нужен машин лёрнинг?);\n",
    "3. какими данными мы располагаем;\n",
    "4. как именно по данным будем строить фичи (+ фичи на основе фич);\n",
    "5. как отмасштабировать-отфильтровать данные, если в них есть мусор;\n",
    "6. с каких моделей стоит начать;\n",
    "7. как оценивать качество модели (в т.ч. случайно ли выбирать holdout)."
   ]
  },
  {
   "cell_type": "markdown",
   "metadata": {
    "collapsed": true
   },
   "source": [
    "## sklearn classification tutorial "
   ]
  },
  {
   "cell_type": "code",
   "execution_count": 2,
   "metadata": {
    "collapsed": true
   },
   "outputs": [],
   "source": [
    "from sklearn import datasets\n",
    "iris = datasets.load_iris()\n",
    "digits = datasets.load_digits()"
   ]
  },
  {
   "cell_type": "code",
   "execution_count": 8,
   "metadata": {
    "collapsed": false
   },
   "outputs": [
    {
     "name": "stdout",
     "output_type": "stream",
     "text": [
      "<class 'sklearn.datasets.base.Bunch'>\n",
      "<class 'numpy.ndarray'>\n",
      "<class 'numpy.ndarray'>\n"
     ]
    },
    {
     "data": {
      "text/plain": [
       "array([[  0.,   0.,   5., ...,   0.,   0.,   0.],\n",
       "       [  0.,   0.,   0., ...,  10.,   0.,   0.],\n",
       "       [  0.,   0.,   0., ...,  16.,   9.,   0.],\n",
       "       ..., \n",
       "       [  0.,   0.,   1., ...,   6.,   0.,   0.],\n",
       "       [  0.,   0.,   2., ...,  12.,   0.,   0.],\n",
       "       [  0.,   0.,  10., ...,  12.,   1.,   0.]])"
      ]
     },
     "execution_count": 8,
     "metadata": {},
     "output_type": "execute_result"
    }
   ],
   "source": [
    "print(type(digits))\n",
    "print(type(digits.data))\n",
    "print(type(digits.target))\n",
    "digits.data"
   ]
  },
  {
   "cell_type": "code",
   "execution_count": 9,
   "metadata": {
    "collapsed": false
   },
   "outputs": [
    {
     "name": "stdout",
     "output_type": "stream",
     "text": [
      "(1797, 64)\n",
      "(1797,)\n"
     ]
    },
    {
     "data": {
      "text/plain": [
       "array([0, 1, 2, ..., 8, 9, 8])"
      ]
     },
     "execution_count": 9,
     "metadata": {},
     "output_type": "execute_result"
    }
   ],
   "source": [
    "print(digits.data.shape)\n",
    "print(digits.target.shape)\n",
    "digits.target"
   ]
  },
  {
   "cell_type": "code",
   "execution_count": 24,
   "metadata": {
    "collapsed": false
   },
   "outputs": [
    {
     "name": "stdout",
     "output_type": "stream",
     "text": [
      "(1797, 8, 8)\n"
     ]
    },
    {
     "data": {
      "image/png": "[encoded data removed]",
      "text/plain": [
       "<matplotlib.figure.Figure at 0x7f27a2a29128>"
      ]
     },
     "metadata": {},
     "output_type": "display_data"
    }
   ],
   "source": [
    "%matplotlib inline\n",
    "import matplotlib.pyplot as plt\n",
    "\n",
    "print(digits.images.shape)\n",
    "\n",
    "images_and_predictions = list(zip(digits.images[:3], digits.target[:3]))\n",
    "\n",
    "for index, (image, prediction) in enumerate(images_and_predictions[:4]):\n",
    "    plt.subplot(2, 4, index + 5)\n",
    "    plt.axis('off')\n",
    "    plt.imshow(image, cmap=plt.cm.gray_r, interpolation='nearest')\n",
    "    plt.title('C.O.: this is %i' % prediction)\n",
    "\n",
    "plt.show()"
   ]
  },
  {
   "cell_type": "code",
   "execution_count": 30,
   "metadata": {
    "collapsed": false
   },
   "outputs": [
    {
     "data": {
      "text/plain": [
       "SVC(C=100.0, cache_size=200, class_weight=None, coef0=0.0,\n",
       "  decision_function_shape=None, degree=3, gamma=0.001, kernel='rbf',\n",
       "  max_iter=-1, probability=False, random_state=None, shrinking=True,\n",
       "  tol=0.001, verbose=False)"
      ]
     },
     "execution_count": 30,
     "metadata": {},
     "output_type": "execute_result"
    }
   ],
   "source": [
    "from sklearn import svm\n",
    "clf = svm.SVC(gamma=0.001, C=100.)\n",
    "cutoff = 4\n",
    "clf.fit(digits.data[:-cutoff], digits.target[:-cutoff])"
   ]
  },
  {
   "cell_type": "code",
   "execution_count": 33,
   "metadata": {
    "collapsed": false
   },
   "outputs": [
    {
     "name": "stdout",
     "output_type": "stream",
     "text": [
      "Predicted: [0 8 9 8]\n",
      "True:      [0 8 9 8]\n"
     ]
    },
    {
     "data": {
      "image/png": "[encoded data removed]",
      "text/plain": [
       "<matplotlib.figure.Figure at 0x7f27cc2839e8>"
      ]
     },
     "metadata": {},
     "output_type": "display_data"
    }
   ],
   "source": [
    "# предсказываем на том, что мы никогда не видели\n",
    "predicted_digits = clf.predict(digits.data[-cutoff:])\n",
    "\n",
    "print(\"Predicted:\", predicted_digits)\n",
    "print(\"True:     \", digits.target[-cutoff:])\n",
    "\n",
    "images_and_predictions = list(zip(digits.images[-cutoff:], predicted_digits))\n",
    "\n",
    "for index, (image, prediction) in enumerate(images_and_predictions[:4]):\n",
    "    plt.subplot(2, 4, index + 5)\n",
    "    plt.axis('off')\n",
    "    plt.imshow(image, cmap=plt.cm.gray_r, interpolation='nearest')\n",
    "    plt.title('C.O.: this is %i' % prediction)\n",
    "\n",
    "plt.show()"
   ]
  },
  {
   "cell_type": "markdown",
   "metadata": {},
   "source": [
    "Но это всё игрушки, мы проверили на нескольких примерах, однако это не убеждает, что алгоритм хорош."
   ]
  },
  {
   "cell_type": "code",
   "execution_count": 39,
   "metadata": {
    "collapsed": false
   },
   "outputs": [
    {
     "name": "stdout",
     "output_type": "stream",
     "text": [
      "0.991652754591\n",
      "Accuracy on test set: 0.963888888889\n"
     ]
    }
   ],
   "source": [
    "from sklearn.metrics import accuracy_score, classification_report\n",
    "\n",
    "# Насколько часто он ошибается на обучающем множестве? \n",
    "# (ВНИМАНИЕ! это не прямая оценка качества алгоритма, это демонстрация того, \n",
    "# насколько сильно он \"подогнан\" к данным).\n",
    "print(accuracy_score(digits.target, clf.predict(digits.data)))\n",
    "\n",
    "# Правильный путь -- обучиться на части данных, на другой части проверить.\n",
    "# Способ и отношения разбиения на обучающую и тестовую выборки зависят от задачи и размера данных.\n",
    "\n",
    "# Чем меньше test, тем, как правило, лучше обучаемся, но меньше доверия к оценке.\n",
    "# Чем меньше train, тем хуже обучаемся, но точнее оцениваем.\n",
    "\n",
    "# Часто -- train/test как 7:3, 4:1\n",
    "\n",
    "n_total = digits.data.shape[0]\n",
    "split_ratio = 0.8\n",
    "n_train = int(n_total * split_ratio)\n",
    "\n",
    "X_train = digits.data[:n_train]\n",
    "y_train = digits.target[:n_train]\n",
    "\n",
    "clf.fit(X_train, y_train)\n",
    "\n",
    "X_test = digits.data[n_train:]\n",
    "y_test = digits.target[n_train:]\n",
    "\n",
    "print(\"Accuracy on test set:\", accuracy_score(y_test, clf.predict(X_test)))"
   ]
  },
  {
   "cell_type": "code",
   "execution_count": 40,
   "metadata": {
    "collapsed": false
   },
   "outputs": [
    {
     "name": "stdout",
     "output_type": "stream",
     "text": [
      "Accuracy on X_test after training on X_train: 0.963888888889\n",
      "Accuracy on X_train after training on X_test: 0.939457202505\n"
     ]
    }
   ],
   "source": [
    "# Ещё один замечательный способ оценки -- кросс-валидация.\n",
    "# Сравниваем оценки для разных разбиений. \n",
    "# Да хоть сейчас (хотя ситуация, когда |train| > |test| -- не очень здоровая).\n",
    "\n",
    "clf.fit(X_train, y_train)\n",
    "print(\"Accuracy on X_test after training on X_train:\", accuracy_score(y_test, clf.predict(X_test)))\n",
    "\n",
    "clf.fit(X_test, y_test)\n",
    "print(\"Accuracy on X_train after training on X_test:\", accuracy_score(y_train, clf.predict(X_train)))\n",
    "\n",
    "# Какие выводы? Не очень сложная для SVM задача, не очень плохая точность :) Но не более того.\n",
    "# Есть удобный механизм для k-fold кросс-валидации -- она почестнее \n",
    "# для усреднения оценок качества, и можно сохранить разумное соотношение размеров обучения и теста.\n",
    "# Делим данные на k частей, на всех, кроме одной, обучается, на ней тестируем. Всё просто.\n",
    "# \n",
    "# KFold используется в домашке, всё равно предстоит так или иначе разобраться с ним : )"
   ]
  },
  {
   "cell_type": "code",
   "execution_count": 42,
   "metadata": {
    "collapsed": false
   },
   "outputs": [
    {
     "name": "stdout",
     "output_type": "stream",
     "text": [
      "             precision    recall  f1-score   support\n",
      "\n",
      "          0       1.00      0.97      0.99        35\n",
      "          1       0.97      1.00      0.99        36\n",
      "          2       1.00      1.00      1.00        35\n",
      "          3       1.00      0.84      0.91        37\n",
      "          4       0.97      0.92      0.94        37\n",
      "          5       0.93      1.00      0.96        37\n",
      "          6       1.00      1.00      1.00        37\n",
      "          7       1.00      1.00      1.00        36\n",
      "          8       0.86      0.97      0.91        33\n",
      "          9       0.92      0.95      0.93        37\n",
      "\n",
      "avg / total       0.97      0.96      0.96       360\n",
      "\n"
     ]
    }
   ],
   "source": [
    "# Есть небольшая проблема -- классов у нас несколько, и accuracy нам никогда не скажет, какой именно\n",
    "# предсказывается плохо или хорошо, а на практике это, как правило, очень важно.\n",
    "\n",
    "# Есть оценки качества для отдельных классов. Точность, полнота, f-score, вот это всё.\n",
    "# Искать подходящую вам -- здесь http://scikit-learn.org/stable/modules/model_evaluation.html\n",
    "\n",
    "# А мы построим стандартный отчёт о качестве классификации, которого для простых задач обычно хватает.\n",
    "clf.fit(X_train, y_train)\n",
    "y_pred = clf.predict(X_test)\n",
    "\n",
    "print(classification_report(y_test, y_pred))"
   ]
  },
  {
   "cell_type": "code",
   "execution_count": 53,
   "metadata": {
    "collapsed": false
   },
   "outputs": [
    {
     "name": "stdout",
     "output_type": "stream",
     "text": [
      "(150, 4) (150,)\n"
     ]
    },
    {
     "data": {
      "text/plain": [
       "(array([ -1.69031455e-15,  -1.63702385e-15,  -1.48251781e-15,\n",
       "         -1.62314606e-15]), array([ 1.,  1.,  1.,  1.]))"
      ]
     },
     "execution_count": 53,
     "metadata": {},
     "output_type": "execute_result"
    }
   ],
   "source": [
    "\"\"\"\n",
    " Самостоятельная работа.\n",
    " \n",
    " https://ru.wikipedia.org/wiki/%D0%98%D1%80%D0%B8%D1%81%D1%8B_%D0%A4%D0%B8%D1%88%D0%B5%D1%80%D0%B0\n",
    " \n",
    " Исследовать классический датасет. \n",
    " \n",
    " - Что за фичи? Как распределены из значения?\n",
    " \n",
    " - Сколько классов? Хорошо ли они сбалансированы?\n",
    " \n",
    " - Проверить несколько известных вам моделей для классификации методом отложенной выборки; \n",
    "   accuracy, точность, полнота, f-мера. \n",
    "   Рекомендуется попробовать как минимум KNN, LogisticRegression, DecisionTree.\n",
    "   \n",
    " - Попробуйте применить какую-нибудь линейную модель для классификации. \n",
    "   Нормализуйте фичи с помощью StandardScaler или как предложено ниже.\n",
    "   Снова примените линейную модель. Есть выгода?\n",
    " \n",
    " - Поменять их параметры руками; как меняется качество? есть идеи, почему?\n",
    " \n",
    " - Выбрать любимую модель, подобрать её параметры с помощью GridSearchCV (см. примеры в большом ДЗ)\n",
    "\"\"\"\n",
    "\n",
    "import numpy as np\n",
    "from sklearn import preprocessing\n",
    "\n",
    "iris = datasets.load_iris()\n",
    "\n",
    "print(iris.data.shape, iris.target.shape)\n",
    "\n",
    "# hint\n",
    "unique, counts = np.unique(iris.target, return_counts=True)\n",
    "\n",
    "# hint\n",
    "X_scaled = preprocessing.scale(iris.data)\n",
    "\n",
    "# что это значит?\n",
    "np.mean(X_scaled, axis=0), np.std(X_scaled, axis=0)"
   ]
  },
  {
   "cell_type": "code",
   "execution_count": null,
   "metadata": {
    "collapsed": true
   },
   "outputs": [],
   "source": []
  }
 ],
 "metadata": {
  "kernelspec": {
   "display_name": "Python 3",
   "language": "python",
   "name": "python3"
  },
  "language_info": {
   "codemirror_mode": {
    "name": "ipython",
    "version": 3
   },
   "file_extension": ".py",
   "mimetype": "text/x-python",
   "name": "python",
   "nbconvert_exporter": "python",
   "pygments_lexer": "ipython3",
   "version": "3.5.2"
  }
 },
 "nbformat": 4,
 "nbformat_minor": 0
}
