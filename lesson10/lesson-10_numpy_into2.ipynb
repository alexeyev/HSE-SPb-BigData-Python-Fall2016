{
 "cells": [
  {
   "cell_type": "markdown",
   "metadata": {},
   "source": [
    "**NumPy - Numerical Python\n",
    "библиотека для эффективных вычислений**\n",
    "\n",
    "\n",
    "Python -- высокоуровневый, интепретируемый и динамический. Списки в нём -- списки указателей на объекты (которые могут иметь любой тип), и при выполнении, например, \"векторных операций\" (с помощью циклов или list comprehensions) интерпретатор каждый раз проверяет, применим ли тип очередного элемента. \n",
    "\n",
    "\n",
    "*То, за счёт чего мы получает лаконичность кода и высокую скорость разработки, вынуждает наши программы работать медленнее.*\n",
    "\n",
    "\n",
    "В numpy -- \n",
    "1. array должны быть одного типа, поэтому нет дополнительных вычислительных затрат на проверки.\n",
    "2. Часть операций реализована на C.\n",
    "\n",
    "\n",
    "Отсюда прирост в производительности на некоторых распространённых задачах -- в сотни раз.\n",
    "\n",
    "\n",
    "*Если вы используете numpy и если при этом в вашем коде есть циклы, скорее всего, вы делаете что-то не так.*"
   ]
  },
  {
   "cell_type": "code",
   "execution_count": 10,
   "metadata": {
    "collapsed": false
   },
   "outputs": [
    {
     "name": "stdout",
     "output_type": "stream",
     "text": [
      "<class 'numpy.ndarray'>\n",
      "[  1 222  33   5]\n",
      "int64\n",
      "[   1.  222.   33.    5.]\n",
      "float64\n",
      "['1' '222' '33' '5.0']\n",
      "<U21\n"
     ]
    }
   ],
   "source": [
    "import numpy as np \n",
    "\"\"\"\n",
    "BTW: aliasing импортируемого модуля для краткости\n",
    "часто\n",
    "np ~ numpy\n",
    "sp ~ scipy\n",
    "pd ~ pandas\n",
    "tf ~ tensorflow\n",
    "...\n",
    "\"\"\"\n",
    "\n",
    "# numpy.ndarray -- это элементы ОДНОГО типа (в numpy их много)\n",
    "\n",
    "array = [1, 222, 33, 5]\n",
    "nparray = np.array(array)\n",
    "\n",
    "print(type(nparray))\n",
    "print(nparray)\n",
    "print(nparray.dtype)\n",
    "\n",
    "array = [1, 222, 33, 5.0]\n",
    "nparray = np.array(array)\n",
    "\n",
    "print(nparray)\n",
    "print(nparray.dtype)\n",
    "\n",
    "array = [1, 222, 33, \"5.0\"]\n",
    "nparray = np.array(array)\n",
    "\n",
    "print(nparray)\n",
    "print(nparray.dtype)"
   ]
  },
  {
   "cell_type": "code",
   "execution_count": 13,
   "metadata": {
    "collapsed": false
   },
   "outputs": [
    {
     "name": "stdout",
     "output_type": "stream",
     "text": [
      "<class 'numpy.ndarray'>\n",
      "[[[ 0  1  2  3  4  5  6  7  8  9]\n",
      "  [10 11 12 13 14 15 16 17 18 19]]\n",
      "\n",
      " [[20 21 22 23 24 25 26 27 28 29]\n",
      "  [30 31 32 33 34 35 36 37 38 39]]]\n",
      "3\n",
      "(2, 2, 10)\n",
      "2\n",
      "[[[  0.   1.   2.   3.   4.   5.   6.   7.   8.   9.]\n",
      "  [ 10.  11.  12.  13.  14.  15.  16.  17.  18.  19.]]\n",
      "\n",
      " [[ 20.  21.  22.  23.  24.  25.  26.  27.  28.  29.]\n",
      "  [ 30.  31.  32.  33.  34.  35.  36.  37.  38.  39.]]]\n",
      "int64\n"
     ]
    }
   ],
   "source": [
    "# у объектов в numpy, как и у любых объектов в python, есть атрибуты\n",
    "\n",
    "# arange -- генерация подряд идущих чисел\n",
    "# reshape -- приведение к нужной размерности\n",
    "array = np.arange(40).reshape(2, 2, 10)\n",
    "\n",
    "print(type(array))\n",
    "\n",
    "print(array)\n",
    "\n",
    "# размерности\n",
    "print(array.ndim)\n",
    "\n",
    "# как нумеруются оси\n",
    "# строки -- axis=0\n",
    "# столбцы -- axis=1\n",
    "print(array.shape)\n",
    "print(len(array))\n",
    "\n",
    "# все нормальные операции -- immutable\n",
    "print(array.astype(np.float32))\n",
    "print(array.dtype)\n",
    "\n",
    "# также можно задавать многомерные массивы, передав в список списков [списков [списков [...]]"
   ]
  },
  {
   "cell_type": "code",
   "execution_count": 21,
   "metadata": {
    "collapsed": false
   },
   "outputs": [
    {
     "name": "stdout",
     "output_type": "stream",
     "text": [
      "[ 0.   0.2  0.4  0.6  0.8  1. ] [ 0.          0.16666667  0.33333333  0.5         0.66666667  0.83333333]\n",
      "[[ 0.  0.  0.]\n",
      " [ 0.  0.  0.]]\n",
      "[[[ 1.  1.  1.]\n",
      "  [ 1.  1.  1.]]\n",
      "\n",
      " [[ 1.  1.  1.]\n",
      "  [ 1.  1.  1.]]]\n",
      "[[ 1.  0.  0.  0.]\n",
      " [ 0.  1.  0.  0.]\n",
      " [ 0.  0.  1.  0.]\n",
      " [ 0.  0.  0.  1.]]\n",
      "[[0 0 0 0 0]\n",
      " [0 1 0 0 0]\n",
      " [0 0 2 0 0]\n",
      " [0 0 0 3 0]\n",
      " [0 0 0 0 4]]\n",
      "[[ 1.  0.  0.]\n",
      " [ 0.  1.  0.]\n",
      " [ 0.  0.  1.]]\n"
     ]
    }
   ],
   "source": [
    "# Другие методы создания списков\n",
    "\n",
    "# от, до, сколько частей\n",
    "c = np.linspace(0, 1, 6)\n",
    "d = np.linspace(0, 1, 6, endpoint=False)\n",
    "print(c, d)\n",
    "\n",
    "# на вход -- размеры массивов\n",
    "e = np.zeros((2, 3))\n",
    "print(e)\n",
    "\n",
    "f = np.ones((2, 2, 3))\n",
    "print(f)\n",
    "\n",
    "# на вход -- длина диагонали квадратной матрицы\n",
    "g = np.eye(4)\n",
    "print(g)\n",
    "\n",
    "h = np.diag(np.arange(5))\n",
    "i = np.diag(np.ones(3))\n",
    "print(h)\n",
    "print(i)\n",
    "\n",
    "# etc"
   ]
  },
  {
   "cell_type": "code",
   "execution_count": 26,
   "metadata": {
    "collapsed": false
   },
   "outputs": [
    {
     "name": "stdout",
     "output_type": "stream",
     "text": [
      "[ 0.96702984  0.54723225  0.97268436  0.71481599]\n",
      "[-0.99590893  0.69359851 -0.41830152 -1.58457724 -0.64770677  0.59857517\n",
      "  0.33225003 -1.14747663  0.61866969 -0.08798693  0.4250724   0.33225315\n",
      " -1.15681626  0.35099715 -0.60688728  1.54697933  0.72334161  0.04613557\n",
      " -0.98299165  0.05443274  0.15989294 -1.20894816  2.22336022  0.39429521\n",
      "  1.69235772 -1.11281215  1.63574754 -1.36096559 -0.65122583  0.54245131\n",
      "  0.04800625 -2.35807363 -1.10558404  0.83783635  2.08787087  0.91484096\n",
      " -0.27620335  0.7965119  -1.14379857  0.50991978 -1.3474603  -0.0093601\n",
      " -0.13070464  0.80208661 -0.30296397  1.20200259 -0.19674528  0.8365287\n",
      "  0.78660228 -1.84087587]\n"
     ]
    }
   ],
   "source": [
    "# Случайные числа из разных распределений\n",
    "\n",
    "# \"посев\" для генератора случайных чисел -- для одних и тех же псвдослучайных генераций\n",
    "np.random.seed(4)\n",
    "\n",
    "# генерация сэмплов из равномерного распределения\n",
    "a = np.random.rand(4)  \n",
    "print(a)\n",
    "\n",
    "# гауссовское распределение\n",
    "b = np.random.randn(50)\n",
    "print(b)\n",
    "\n",
    "# и есть несколько других полезных на практике, google it"
   ]
  },
  {
   "cell_type": "markdown",
   "metadata": {},
   "source": [
    "### Залог эффективных вычислений \n",
    "#### воспринимать рекомендации по работе с numpy \n",
    "*(ну или заглядывать в исходники, но это для джедаев)*\n",
    "\n",
    "**Numpy-way strategies**\n",
    "1. **Использование numpy ufuncs**\n",
    "2. **Использование numpy aggregate functions**\n",
    "3. **Slicing, masking, fancy indexing**\n",
    "4. ***Broadcasting**"
   ]
  },
  {
   "cell_type": "code",
   "execution_count": 56,
   "metadata": {
    "collapsed": false
   },
   "outputs": [
    {
     "name": "stdout",
     "output_type": "stream",
     "text": [
      "[[0 1 2]\n",
      " [3 4 5]] (2, 3)\n",
      "[[2 3 4]\n",
      " [5 6 7]]\n",
      "[[ 0.   0.5  1. ]\n",
      " [ 1.5  2.   2.5]]\n",
      "[[ 0  2  4]\n",
      " [ 6  8 10]]\n",
      "[[ 0  1  4]\n",
      " [ 9 16 25]]\n",
      "[[ 0  2  4]\n",
      " [ 6  8 10]]\n",
      "[[0 0 0]\n",
      " [0 0 0]]\n",
      "[[ 0  1  4]\n",
      " [ 9 16 25]]\n",
      "[[ 5 14]\n",
      " [14 50]]\n",
      "[[ 9 12 15]\n",
      " [12 17 22]\n",
      " [15 22 29]]\n"
     ]
    }
   ],
   "source": [
    "# I. ufuncs\n",
    "\n",
    "# Нет ни одного шанса, что мы даже за пару-тройку занятий рассмотрим всё, что есть в numpy.\n",
    "# Поэтому если есть нужда в решении какой-нибудь задачи линейной алгебры, стоит погуглить, \n",
    "# наверняка в numpy/scipy есть готовое\n",
    "\n",
    "# Сейчас учимся, \"как делать это правильно\", а конкретные необходимые вам методы придётся погуглить\n",
    "\n",
    "x = np.arange(6).reshape((2, 3))\n",
    "print(x, x.shape)\n",
    "\n",
    "# cool, heh?\n",
    "print(x + 2)\n",
    "print(x / 2)\n",
    "print(x * 2)\n",
    "print(x ** 2) # element-wise\n",
    "\n",
    "# cooler?\n",
    "print(x + x)\n",
    "print(x - x)\n",
    "\n",
    "# NOTA BENE!\n",
    "print(x * x) # element-wise\n",
    "print(x.dot(x.T)) # multiplication\n",
    "print(x.T.dot(x)) # multiplication\n",
    "\n",
    "# а давайте проверим\n",
    "# print(x * x == x ** 2)\n",
    "\n",
    "\"\"\"\n",
    "Сюда же относятся очень эффективные\n",
    "np.log\n",
    "np.exp\n",
    "...\n",
    "\n",
    "Можете не писать питоновские лямбды -- не делайте этого\n",
    "\"\"\""
   ]
  },
  {
   "cell_type": "code",
   "execution_count": 66,
   "metadata": {
    "collapsed": false
   },
   "outputs": [
    {
     "name": "stdout",
     "output_type": "stream",
     "text": [
      "100 loops, best of 3: 9.77 ms per loop\n",
      "10000 loops, best of 3: 81.9 µs per loop\n"
     ]
    }
   ],
   "source": [
    "# let's make sure numpy's ufuncs are cool\n",
    "arr = list(range(0, 60000))\n",
    "%timeit [v + 5 for v in arr]\n",
    "\n",
    "arr = np.arange(60000)\n",
    "%timeit arr + 5\n",
    "\n",
    "# убедительно? :]"
   ]
  },
  {
   "cell_type": "raw",
   "metadata": {},
   "source": []
  },
  {
   "cell_type": "code",
   "execution_count": 67,
   "metadata": {
    "collapsed": false
   },
   "outputs": [
    {
     "name": "stdout",
     "output_type": "stream",
     "text": [
      "[[ 0  1  2  3  4  5]\n",
      " [ 6  7  8  9 10 11]\n",
      " [12 13 14 15 16 17]\n",
      " [18 19 20 21 22 23]\n",
      " [24 25 26 27 28 29]\n",
      " [30 31 32 33 34 35]\n",
      " [36 37 38 39 40 41]\n",
      " [42 43 44 45 46 47]\n",
      " [48 49 50 51 52 53]\n",
      " [54 55 56 57 58 59]]\n",
      "29.5\n",
      "[ 27.  28.  29.  30.  31.  32.]\n",
      "[  2.5   8.5  14.5  20.5  26.5  32.5  38.5  44.5  50.5  56.5]\n",
      "17.3181022825\n",
      "[ 17.23368794  17.23368794  17.23368794  17.23368794  17.23368794\n",
      "  17.23368794]\n",
      "[ 1.70782513  1.70782513  1.70782513  1.70782513  1.70782513  1.70782513\n",
      "  1.70782513  1.70782513  1.70782513  1.70782513]\n"
     ]
    }
   ],
   "source": [
    "# II. Aggregate functions: берём коллекцию, вычисляем \"агрегат\"\n",
    "\n",
    "# Нет ни одного шанса, что мы даже за пару-тройку занятий рассмотрим всё, что есть в numpy.\n",
    "# Поэтому если есть нужда в решении какой-нибудь задачи линейной алгебры, стоит погуглить, \n",
    "# наверняка в numpy/scipy есть готовое\n",
    "# Сейчас учимся, \"как делать это правильно\", а конкретные необходимые вам методы придётся погуглить\n",
    "\n",
    "x = np.arange(60).reshape((10, 6))\n",
    "print(x)\n",
    "\n",
    "# среднее по разным измерениям\n",
    "print(np.mean(x))\n",
    "print(np.mean(x, axis=0))\n",
    "print(np.mean(x, axis=1))\n",
    "\n",
    "# ст. отклонение по разным измерениям\n",
    "print(np.std(x))\n",
    "print(np.std(x, axis=0))\n",
    "print(np.std(x, axis=1))\n",
    "\n",
    "\"\"\"\n",
    "Есть много-много других хороших полезных агрегирующих функций на каждый день\n",
    "\"\"\""
   ]
  },
  {
   "cell_type": "code",
   "execution_count": 71,
   "metadata": {
    "collapsed": false
   },
   "outputs": [
    {
     "name": "stdout",
     "output_type": "stream",
     "text": [
      "1000 loops, best of 3: 965 µs per loop\n",
      "10000 loops, best of 3: 83.6 µs per loop\n"
     ]
    }
   ],
   "source": [
    "# let's make sure numpy's aggr funcs are blazing fast\n",
    "arr = list(range(0, 60000))\n",
    "%timeit sum(arr)\n",
    "\n",
    "arr = np.arange(60000)\n",
    "%timeit np.sum(arr)\n",
    "\n",
    "# убедительно? :]"
   ]
  },
  {
   "cell_type": "code",
   "execution_count": 98,
   "metadata": {
    "collapsed": false
   },
   "outputs": [
    {
     "name": "stdout",
     "output_type": "stream",
     "text": [
      "[0 1 2 3 4 5 6 7 8 9]\n",
      "1\n",
      "[[ 0  1  2  3  4  5  6  7  8  9]\n",
      " [10 11 12 13 14 15 16 17 18 19]]\n",
      "[[ 0]\n",
      " [30]]\n",
      "[[ 0]\n",
      " [30]]\n",
      "[ 0.29209759  0.238975    0.73021265  0.13469814  1.2243867   2.84239147\n",
      "  0.91068325  1.10235921  0.08348571  2.57883505]\n"
     ]
    }
   ],
   "source": [
    "# III. Продвинутый доступ до элементов -- каждый из них можно применять к ЛЮБОМУ изменению массива\n",
    "\n",
    "arr = np.arange(120).reshape(12, 10)\n",
    "\n",
    "# 1. индексы через запятую\n",
    "print(arr[0])\n",
    "print(arr[0, 1])\n",
    "\n",
    "# 2. слайсинг по любому индексу\n",
    "print(arr[:2, :])\n",
    "\n",
    "# 3. можно передавать список индексов (как лист, так и np.ndarray)\n",
    "print(arr[[0, 3], :1])\n",
    "print(arr[np.array([0, 3]), :1])\n",
    "\n",
    "# 4. хитрый отбор элементов -- masking\n",
    "x = np.random.randn(1000)\n",
    "\n",
    "# элементы больше среднего\n",
    "print(x[x > np.mean(x)][:10])\n",
    "\n",
    "# минуточку, а что за выражение в квадратных скобках?\n",
    "# print((x > np.mean(x))[:10])\n",
    "\n",
    "# всё, что выпадает за три сигмы\n",
    "# print(x[(x > np.mean(x) + 3 * np.std(x)) | (x < np.mean(x) - 3 * np.std(x))])\n",
    "\n",
    "# %timeit x[(x > np.mean(x) + 3 * np.std(x)) | (x < np.mean(x) - 3 * np.std(x))]\n",
    "\n",
    "# mn = np.mean(x)\n",
    "# std = 3 * np.std(x)\n",
    "# mnstdr = mn + std\n",
    "# mnstdl = mn - std\n",
    "\n",
    "# %timeit filter(lambda x: x > mnstdr or x < mnstdl, x)\n",
    "\n",
    "\"\"\"\n",
    "У маскинга свой небольшой язык со своеобразным синтаксисом. \n",
    "\n",
    "Например,\n",
    "not = ~\n",
    "and = &\n",
    "or = |\n",
    ">, <, >=, <=\n",
    "\n",
    "Скобки для отделения одних условных выражений от других -- не лишние никогда (в питоне, как мы помним, всё не так).\n",
    "\"\"\""
   ]
  },
  {
   "cell_type": "code",
   "execution_count": 90,
   "metadata": {
    "collapsed": true
   },
   "outputs": [],
   "source": [
    "# IV* Broadcasting -- устный рассказ у доски?"
   ]
  },
  {
   "cell_type": "code",
   "execution_count": null,
   "metadata": {
    "collapsed": true
   },
   "outputs": [],
   "source": [
    "%matplotlib inline \n",
    "import matplotlib.pyplot as plt\n",
    "\n",
    "# just google numpy docs\n",
    "\n",
    "# means = [0, 0]\n",
    "# covs = [[3, 0], [0, 3]]\n",
    "# x, y = np.random.multivariate_normal(means, covs, 500).T\n",
    "x, y = np.random.uniform(low=10, high=20, size=(500, 2)).T\n",
    "\n",
    "print(x.shape, y.shape)\n",
    "print(np.mean(x), np.mean(y))\n",
    "print(np.std(x), np.std(y))\n",
    "\n",
    "plt.plot(x, y,  marker='o', color='b', ls='')\n",
    "plt.show()"
   ]
  },
  {
   "cell_type": "code",
   "execution_count": 31,
   "metadata": {
    "collapsed": false
   },
   "outputs": [
    {
     "data": {
      "text/plain": [
       "'\\n0. Разобраться, как склеивать матрицы (google: numpy hstack, vstack), и склеить координаты x0 с x1 и аналогично с y.\\n1. *(дома) Построить гистограмму по отдельным координатам.\\n2. Реализовать функцию, которая принимает на вход пару координат и \\n   numpy-списки координат данных точек, и обычными циклами ищет ближайшую пару координат из данных.\\n3. Реализовать функцию, которая методами numpy\\n   - строит 2 матрицы разностей между всеми соответствующими парами x и y (лучше всего использовать broadcasting; google it, \\n   или спросите преподавателя)\\n   - вычисляет квадраты значений в этих матрицах\\n   - складывает матрицы и берёт квадратный корень от значений\\n   - проставляет на диагоналях плюс-бесконечности (google: numpy infinity value)\\n   - с помощью np.argmin находит ответ\\n4. С помощью timeit сравните время работы обоих методов\\n'"
      ]
     },
     "execution_count": 31,
     "metadata": {},
     "output_type": "execute_result"
    }
   ],
   "source": [
    "# Задача 1: поиск ближайшего соседа по евклидовой метрике\n",
    "\n",
    "means0 = [1, -1]\n",
    "covs0 = [[7, 3], [2, 5]]\n",
    "x0, y0 = np.random.multivariate_normal(means0, covs0, 190).T\n",
    "\n",
    "means1 = [-0.7, -1]\n",
    "covs1 = [[0.2, 0], [0, 0.4]]\n",
    "x1, y1 = np.random.multivariate_normal(means1, covs1, 100).T\n",
    "\n",
    "\"\"\"\n",
    "00. Убедиться, что mean и std для каждой из координат соответствуют ожиданиям.\n",
    "0. Разобраться, как склеивать матрицы (google: numpy hstack, vstack), и склеить координаты x0 с x1 и аналогично с y.\n",
    "1. *(дома) Построить гистограмму по отдельным координатам.\n",
    "2. Реализовать функцию, которая принимает на вход пару координат и \n",
    "   numpy-списки координат данных точек, и обычными циклами ищет ближайшую пару координат из данных.\n",
    "3. Реализовать функцию, которая методами numpy\n",
    "   - строит 2 матрицы разностей между всеми соответствующими парами x и y (лучше всего использовать broadcasting; google it, \n",
    "   или спросите преподавателя)\n",
    "   - вычисляет квадраты значений в этих матрицах\n",
    "   - складывает матрицы и берёт квадратный корень от значений\n",
    "   - проставляет на диагоналях плюс-бесконечности (google: numpy infinity value)\n",
    "   - с помощью np.argmin находит ответ\n",
    "4. С помощью timeit сравните время работы обоих методов\n",
    "\"\"\""
   ]
  },
  {
   "cell_type": "code",
   "execution_count": null,
   "metadata": {
    "collapsed": true
   },
   "outputs": [],
   "source": [
    "# Задача 2: метод ближайших соседей\n",
    "\n",
    "\"\"\"\n",
    "0. Создайте numpy-массивы с метками классов. Для бывших x0, y0 -- класс 0.0.  Для x1, y1 -- класс 1.0.\n",
    "1. Разделите множество точек, задаваемое x, y случайным образом (google: numpy random split, indices shuffling) \n",
    "   на две части, например, в отношениий 80 к 20. Это train и test.\n",
    "2. Используя метод, находящий k ближайших соседей среди train (просто измените второй метод из задачи 1), \n",
    "   предсказывайте метку класса для каждого элемента из test (какого класса больше у k соседей). Подсчитайте относительную частоту правильных \n",
    "   предсказаний.\n",
    "3. Проделайте это для разных k. При каком точность выше?\n",
    "4. Средствами matplotlib выделите цветами на рисунке классы, к которым принадлежат точки, и каким-то особым способом\n",
    "   точки, в которых наш алгоритм ошибся. Естественная ли получается картина?\n",
    "\"\"\""
   ]
  },
  {
   "cell_type": "code",
   "execution_count": 32,
   "metadata": {
    "collapsed": false
   },
   "outputs": [
    {
     "data": {
      "image/png": "[encoded data removed]",
      "text/plain": [
       "<matplotlib.figure.Figure at 0x7f79efd4b908>"
      ]
     },
     "metadata": {},
     "output_type": "display_data"
    }
   ],
   "source": [
    "\n",
    "plt.plot(x0, y0,  marker='o', color='b', ls='')\n",
    "plt.plot(x1, y1,  marker='o', color='r', ls='')\n",
    "plt.show()"
   ]
  },
  {
   "cell_type": "code",
   "execution_count": null,
   "metadata": {
    "collapsed": true
   },
   "outputs": [],
   "source": []
  }
 ],
 "metadata": {
  "kernelspec": {
   "display_name": "Python 3",
   "language": "python",
   "name": "python3"
  },
  "language_info": {
   "codemirror_mode": {
    "name": "ipython",
    "version": 3
   },
   "file_extension": ".py",
   "mimetype": "text/x-python",
   "name": "python",
   "nbconvert_exporter": "python",
   "pygments_lexer": "ipython3",
   "version": "3.4.3+"
  }
 },
 "nbformat": 4,
 "nbformat_minor": 0
}