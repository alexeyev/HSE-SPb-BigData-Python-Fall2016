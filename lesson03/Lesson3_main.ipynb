{
 "cells": [
  {
   "cell_type": "code",
   "execution_count": null,
   "metadata": {
    "collapsed": true
   },
   "outputs": [],
   "source": [
    "\"\"\"\n",
    "Занятие 3: \n",
    "- небольшой фидбек по \n",
    "- разбор первых задач по матрицам\n",
    "\n",
    "\"закрываем долг\"\n",
    "- ещё управляющие конструкции\n",
    "- кортежи\n",
    "- строки\n",
    "\"\"\""
   ]
  },
  {
   "cell_type": "code",
   "execution_count": null,
   "metadata": {
    "collapsed": true
   },
   "outputs": [],
   "source": [
    "# Разбор задач на матрицы\n",
    "\n",
    "# - конкатенация матриц\n",
    "# - создать в цикле единичную матрицу\n",
    "# - создать треугольную матрицу, 4 варианта\n",
    "# - транспонирование \"прямоугольных\" матриц\n",
    "# - нормализация строк, столбцов\n",
    "# - сложение матриц\n",
    "# - поэлементное умножение\n",
    "# ------------------------------------\n",
    "# Умножение матриц размером NxK и KxM:\n",
    "# 1] сгенерировать матрицы соответствующего размера\n",
    "# 2] распечатать обе матрицы и их произведение\n",
    "# 3] продемонстрировать корректность: например, \n",
    "# показать, что умножение квадратной матрицы на единичную выдаёт её же как результат"
   ]
  },
  {
   "cell_type": "code",
   "execution_count": 7,
   "metadata": {
    "collapsed": false
   },
   "outputs": [
    {
     "name": "stdout",
     "output_type": "stream",
     "text": [
      "(1, 2, 3, 4, 5, 'hello')\n",
      "(1, 2, 3, 4, 5, 'hello')\n"
     ]
    }
   ],
   "source": [
    "# Кортежи = tuples\n",
    "# неизменяемый список\n",
    "\n",
    "t = (1, 2, 3, 4, 5, \"hello\")\n",
    "print(t)\n",
    "\n",
    "t = 1, 2, 3, 4, 5, \"hello\"\n",
    "print(t)\n",
    "\n",
    "a, b, c, d = 1, 2, 4, 5\n",
    "\n",
    "# error!\n",
    "a, b, c = 1, 2, 4, 5\n",
    "\n",
    "# error!\n",
    "a, b, c, d, e = 1, 2, 4, 5\n",
    "\n",
    "# гордость питонистов\n",
    "a = 10\n",
    "b = 100\n",
    "\n",
    "a, b = b, a\n",
    "print(a, b)\n",
    "\n",
    "my_tuple = (1, 3, 2, 4, 3, 5)\n",
    "\n",
    "my_tuple[4] = 5\n",
    "print(my_tuple)\n",
    "\n",
    "my_list = list(my_tuple)\n",
    "print(my_list)\n"
   ]
  },
  {
   "cell_type": "code",
   "execution_count": null,
   "metadata": {
    "collapsed": true
   },
   "outputs": [],
   "source": [
    "# for\n",
    "\n",
    "for x in range(2, 12, 2):\n",
    "    print(x)\n",
    "\n",
    "for y in [1, \"2323\", [[34], [134]], 42.0]:\n",
    "    print(y)\n",
    "\n",
    "for z in (3, 2, 1):\n",
    "    print(z, end=\" \")\n",
    "    \n",
    "print(\"Pooosk!\")\n",
    "\n",
    "for w in set((3, 2, 1)):\n",
    "    print(w, end=\" \")"
   ]
  },
  {
   "cell_type": "code",
   "execution_count": null,
   "metadata": {
    "collapsed": true
   },
   "outputs": [],
   "source": [
    "# while\n",
    "\n",
    "while False:\n",
    "    print(\"I shall never ever execute anything :(\")\n",
    "\n",
    "while True:\n",
    "    print(\"I'll kill your terminal\")\n",
    "    break # (no)\n",
    "\n",
    "\n",
    "i = 10\n",
    "j = 40\n",
    "\n",
    "while (- i + j) // 2 > 3:\n",
    "    print(i, j, (- i + j) // 2)\n",
    "    j -= 1\n",
    "    i += 1\n",
    "    \n",
    "# \"Включаем\" булевскую переменную    \n",
    "boolean_flag = False\n",
    "accum = 2\n",
    "\n",
    "while not boolean_flag:\n",
    "    accum *= 5\n",
    "    if accum % 50 == 0:\n",
    "        boolean_flag = True\n",
    "\n",
    "print(accum)\n",
    "\n",
    "# Cамостоятельная работа\n",
    "# Переписать этот неэффективный код так, чтобы булевская переменная не была нужна"
   ]
  },
  {
   "cell_type": "code",
   "execution_count": null,
   "metadata": {
    "collapsed": true
   },
   "outputs": [],
   "source": [
    "# Самостоятельная работа\n",
    "# Вывести все степени двойки меньше заданного числа\n",
    "# 1, 2, 4, 8, ...\n",
    "N = 23000"
   ]
  },
  {
   "cell_type": "code",
   "execution_count": null,
   "metadata": {
    "collapsed": true
   },
   "outputs": [],
   "source": [
    "# Самостоятельная работа\n",
    "# Вывести все факториалы меньше заданного числа\n",
    "# 1, 2, 6, 24, ...\n",
    "N = 230000"
   ]
  },
  {
   "cell_type": "code",
   "execution_count": null,
   "metadata": {
    "collapsed": true
   },
   "outputs": [],
   "source": [
    "# Самостоятельная работа\n",
    "# Дан упорядоченный массив, найти \"правильное место\" для вставки элемента\n",
    "a = [-10, -5.3, -0.9, 4, 45, 142]\n",
    "new_el = 0"
   ]
  },
  {
   "cell_type": "code",
   "execution_count": null,
   "metadata": {
    "collapsed": true
   },
   "outputs": [],
   "source": [
    "# Самостоятельная работа\n",
    "# Переписать этот код с использованием while\n",
    "\n",
    "for i in range(15):\n",
    "    if i < 10:\n",
    "        print(i)\n",
    "\n",
    "# Самостоятельная работа\n",
    "# Переписать этот код с использованием while\n",
    "        \n",
    "for i in range(10, 4, -3):\n",
    "    print(i)"
   ]
  },
  {
   "cell_type": "code",
   "execution_count": 17,
   "metadata": {
    "collapsed": false
   },
   "outputs": [
    {
     "name": "stdout",
     "output_type": "stream",
     "text": [
      "0\n",
      "1\n",
      "2\n",
      "3\n",
      "\n",
      "0\n",
      "0 0 | \n",
      "1\n",
      "1 0 | 1 1 | \n",
      "2\n",
      "2 0 | 2 1 | 2 2 | \n",
      "3\n",
      "3 0 | 3 1 | 3 2 | 3 3 | \n",
      "4\n",
      "4 0 | 4 1 | 4 2 | 4 3 | 4 4 | \n",
      "5\n",
      "5 0 | 5 1 | 5 2 | 5 3 | 5 4 | 5 5 | \n",
      "\n",
      "0\n",
      "0.1\n",
      "0.2\n",
      "0.30000000000000004\n",
      "0.4\n",
      "0.5\n",
      "0.6\n",
      "0.7\n",
      "0.7999999999999999\n",
      "0.8999999999999999\n",
      "0.9999999999999999\n"
     ]
    }
   ],
   "source": [
    "# break, continue, else\n",
    "n = 6\n",
    "\n",
    "for i in range(n):\n",
    "    if i > n // 2:\n",
    "        break\n",
    "    print(i)\n",
    "\n",
    "print()\n",
    "    \n",
    "for i in range(n):\n",
    "    print(i)\n",
    "    for j in range(n):\n",
    "        if j > i:\n",
    "            # останавливается только внутренний цикл!\n",
    "            break\n",
    "        print(i, j, end=\" | \")\n",
    "    print()\n",
    "\n",
    "print()\n",
    "\n",
    "x = 0.0\n",
    "\n",
    "while True:\n",
    "    print(x)\n",
    "    x += 0.1\n",
    "    if x ** 2 <= x:\n",
    "        break"
   ]
  },
  {
   "cell_type": "code",
   "execution_count": null,
   "metadata": {
    "collapsed": true
   },
   "outputs": [],
   "source": []
  }
 ],
 "metadata": {
  "kernelspec": {
   "display_name": "Python 3",
   "language": "python",
   "name": "python3"
  },
  "language_info": {
   "codemirror_mode": {
    "name": "ipython",
    "version": 3
   },
   "file_extension": ".py",
   "mimetype": "text/x-python",
   "name": "python",
   "nbconvert_exporter": "python",
   "pygments_lexer": "ipython3",
   "version": "3.5.2"
  },
  "widgets": {
   "state": {},
   "version": "1.1.2"
  }
 },
 "nbformat": 4,
 "nbformat_minor": 0
}
