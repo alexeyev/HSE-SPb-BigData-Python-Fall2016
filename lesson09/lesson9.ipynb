{
 "cells": [
  {
   "cell_type": "markdown",
   "metadata": {},
   "source": [
    "## Регулярные выражения в Python \n"
   ]
  },
  {
   "cell_type": "markdown",
   "metadata": {},
   "source": [
    "Работа с хитрыми и не очень \"паттернами\" в строках: поиск, замена, извлечение...\n",
    "Мы уже имели с ними дело на примере **grep**. Наверняка поддержка регулярных выражений есть почти во всех \"промышленных\" языках."
   ]
  },
  {
   "cell_type": "markdown",
   "metadata": {
    "collapsed": true
   },
   "source": [
    "*Устный рассказ у доски о языке регулярных выражений.*\n",
    "\n",
    "copy+paste отсюда\n",
    "```\n",
    "Оператор\tОписание\n",
    "\n",
    ".\t\t\tОдин любой символ, кроме новой строки \\n.\n",
    "?\t\t\t0 или 1 вхождение шаблона слева\n",
    "+\t\t\t1 и более вхождений шаблона слева\n",
    "*\t\t\t0 и более вхождений шаблона слева\n",
    "\\w\t\t\tЛюбая цифра или буква (\\W — все, кроме буквы или цифры)\n",
    "\\d\t\t\tЛюбая цифра [0-9] (\\D — все, кроме цифры)\n",
    "\\s\t\t\tЛюбой пробельный символ (\\S — любой непробельнй символ)\n",
    "\\b\t\t\tГраница слова\n",
    "[..]\t\tОдин из символов в скобках ([^..] — любой символ, кроме тех, что в скобках)\n",
    "\\\t\t\tЭкранирование специальных символов (\\. означает точку или \\+ — знак «плюс»)\n",
    "^ и $\t\tНачало и конец строки соответственно\n",
    "{n,m}\t\tОт n до m вхождений ({,m} — от 0 до m)\n",
    "a|b\t\t\tСоответствует a или b\n",
    "()\t\t\tГруппирует выражение и возвращает найденный текст\n",
    "\\t, \\n, \\r\tСимвол табуляции, новой строки и возврата каретки соответственно\n",
    "```"
   ]
  },
  {
   "cell_type": "markdown",
   "metadata": {},
   "source": [
    "## Часто используемые методы"
   ]
  },
  {
   "cell_type": "code",
   "execution_count": 8,
   "metadata": {
    "collapsed": false
   },
   "outputs": [
    {
     "name": "stdout",
     "output_type": "stream",
     "text": [
      "далеко-далеко. на лугу пасутся ко...?\n"
     ]
    }
   ],
   "source": [
    "# sub -- замена\n",
    "import re\n",
    "\n",
    "text = \"далеко-далеко. на лугу пасуться ко...?\"\n",
    "\n",
    "print(re.sub(\"ться\", \"тся\", text))\n",
    "\n",
    "# print(re.sub(\".{3}\", \"ровы.\", text))\n",
    "# print(re.sub(\"\\.*\", \"зы\", text))\n",
    "# print(re.sub(\"\\.+\", \"зы\", text))\n",
    "# print(re.sub(\"\\.\\.*\", \"зы\", text))\n",
    "# print(re.sub(\"\\.\\.+\", \"зы\", text))\n",
    "# print(re.sub(\"\\.{3}\", \"зы\", text))"
   ]
  },
  {
   "cell_type": "code",
   "execution_count": null,
   "metadata": {
    "collapsed": true
   },
   "outputs": [],
   "source": [
    "match()\t\t\tDetermine if the RE matches at the beginning of the string.\n",
    "search()\t\tScan through a string, looking for any location where this RE matches.\n",
    "findall()\t\tFind all substrings where the RE matches, and returns them as a list.\n",
    "finditer()\t\tFind all substrings where the RE matches, and returns them as an iterator."
   ]
  },
  {
   "cell_type": "code",
   "execution_count": 21,
   "metadata": {
    "collapsed": false
   },
   "outputs": [
    {
     "name": "stdout",
     "output_type": "stream",
     "text": [
      "<_sre.SRE_Match object; span=(0, 1), match='я'>\n",
      "0\n",
      "1\n",
      "(0, 1)\n",
      "я\n"
     ]
    }
   ],
   "source": [
    "# match -- ищет в начале строки, выдаёт совпадение\n",
    "# group -- обеспечивает доступ\n",
    "\n",
    "matched = re.match(\"\\w*\", \"я гений игорь северянин\")\n",
    "\n",
    "print(matched)\n",
    "print(matched.start())\n",
    "print(matched.end())\n",
    "print(matched.span())\n",
    "print(matched.group())\n",
    "\n",
    "matched = re.match(\"\\w*'\\w*\", \"i don't wan't a sto'r'my af'fair\")\n",
    "\n",
    "# print(matched)\n",
    "# print(matched.start())\n",
    "# print(matched.end())\n",
    "# print(matched.span())\n",
    "# print(matched.group())"
   ]
  },
  {
   "cell_type": "code",
   "execution_count": 38,
   "metadata": {
    "collapsed": false
   },
   "outputs": [
    {
     "name": "stdout",
     "output_type": "stream",
     "text": [
      "<_sre.SRE_Match object; span=(0, 1), match='2'>\n"
     ]
    }
   ],
   "source": [
    "# search, findall, finditer\n",
    "\n",
    "match_object = re.search(\"\\d{1,2}\", \"2,13,40,25,100,5000\")\n",
    "\n",
    "if match_object:\n",
    "    print(match_object)\n",
    "\n",
    "# print(re.findall(\"\\d{1,2}\", \"2,13,40,25,100,5000\"))\n",
    "# print(re.finditer(\"\\d{1,2}\", \"2,13,40,25,100,5000\"))\n",
    "# print([s for s in re.finditer(\"\\d{1,2}\", \"2,13,40,25,100,5000\")])\n",
    "# print([(s.start(), s.end()) for s in re.finditer(\"\\d{1,2}\", \"2,13,40,25,100,5000\")])"
   ]
  },
  {
   "cell_type": "code",
   "execution_count": 39,
   "metadata": {
    "collapsed": false
   },
   "outputs": [],
   "source": [
    "# compile -- заранее построить автомат для разбора регулярных выражений, бывает нужно для\n",
    "\n",
    "text = \"It's a kind of magic, a kind of magic, a kind of magiiiiiiic\"\n",
    "\n",
    "matcher = re.compile(\"(\\w*('|i)\\w*)\")\n",
    "# print(matcher.match(text).group())\n",
    "# print(matcher.search(text).group())\n",
    "# print(matcher.findall(text))\n",
    "# print([s for s in matcher.finditer(text)])\n"
   ]
  },
  {
   "cell_type": "markdown",
   "metadata": {},
   "source": [
    "#### Типичные задачи для разработчика\n",
    "0. Работа с логами и любыми другими текстовыми файлами: фильтрация, выборка, поиск\n",
    "1. Валидация email (правильный путь -- нагуглить)\n",
    "2. Валидация номеров телефонов\n",
    "3. Простой фильтр мата, иных специфичных слов и выражений\n",
    "4. **Приведение данных к нужному виду**\n",
    "5. ...\n",
    "\n",
    "#### Задача\n",
    "В обучающей выборке Titanic Challenge взять колонку с именами пассажиров и определить, насколько хорошо определяется пол, если использовать **не более одного регулярного выражения** (Mr, Ms, ...).\n",
    "\n",
    "#### Задача\n",
    "1. С помощью регулярного выражения выбрать все пользовательские реплики из логов -- см. файл с прошлого занятия.\n",
    "2. Представить каждую реплику как множество слов, предварительно нормализовав.\n",
    "3. Глазами посмотрев статистику, попытаться разбить на классы по \"типам запросов\" с помощью регулярных выражений, стараясь покрыть как можно больше запросов (если они не будут похожи на \"естественные\" ввиду специфики чат-бота, попытаться придумать самостоятельно).\n",
    "4. (*) Написать консольного чат-бота, который отвечает на самые простые запросы вашими репликами. Не забудьте добавить \"элемент случайности\" (недетерминированное поведение бота в одинаковых ситуациях). Можно не поддерживать \"контекст\".\n"
   ]
  },
  {
   "cell_type": "markdown",
   "metadata": {},
   "source": [
    "## sed*\n",
    "\n",
    "На практике -- работая, например, со скверно форматированными или просто не особенно структурированными данными, приходится преобразовывать подстроки по сравнительно сложным паттернам. При этом не всегда файлы достаточно малы для работы с ними в \"обычных\" редакторах.\n",
    "\n",
    "В том числе для таких случаев подойдёт \"потоковый\" текстовый редактор **sed**. \n",
    "https://ru.wikipedia.org/wiki/Sed\n",
    "\n",
    "Пользователь пишет скрипт на специальном языке sed, в котором описывает, что именно нужно проделать с файлом. А затем sed проходит по всему файлу и применяет скрипт к каждой строке. Например, можно записать \"для сотой строки выполни ...\". Или \"в каждой строке замени дату, заданную регулярным выражением, на пробел\". И так далее. Поэтому sed называют неинтерактивным редактором.\n",
    "\n",
    "Быть \"sed-джедаем\" почётно (или нет), но мы ограничимся простым примером.\n",
    "\n",
    "    sed -e 's/doge/котэ/g' inputFileName > outputFileName\n",
    "\n",
    "s = substitute (?) -- замена\n",
    "g = globally -- глобально, то есть все вхождения паттерна\n",
    "\"doge\" -- пример паттерна (любое регулярное выражение)\n",
    "\"котэ\" -- пример замены\n",
    "\n",
    "    sed -e 's/(\\d\\d\\d\\d)-\\d\\d-\\d\\d/\\1/g'\n",
    "\n",
    "А здесь от каждой встретившейся даты оставляем в тексте только \"год\" -- группу в скобках.\n",
    "\n",
    "##### Задание\n",
    "\n",
    "Используя только sed, вытащить из логов только дату, текст пользователя, подобранную рифму.\n"
   ]
  }
 ],
 "metadata": {
  "kernelspec": {
   "display_name": "Python 3",
   "language": "python",
   "name": "python3"
  },
  "language_info": {
   "codemirror_mode": {
    "name": "ipython",
    "version": 3
   },
   "file_extension": ".py",
   "mimetype": "text/x-python",
   "name": "python",
   "nbconvert_exporter": "python",
   "pygments_lexer": "ipython3",
   "version": "3.5.2"
  }
 },
 "nbformat": 4,
 "nbformat_minor": 0
}
