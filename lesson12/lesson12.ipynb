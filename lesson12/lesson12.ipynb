{
 "cells": [
  {
   "cell_type": "markdown",
   "metadata": {},
   "source": [
    "# scipy.sparse\n",
    "\n",
    "https://www.scipy.org/\n",
    "\n",
    "SciPy предназначена для выполнения научных и инженерных расчётов.\n",
    "\n",
    "Согласно wiki, основные модули:\n",
    "\n",
    "\n",
    "| субпакет      | реализованная \"функциональность\"                                 |\n",
    "|---------------|------------------------------------------------------------------|\n",
    "| **constants** |Физические константы и коэффициенты пересчёта (с версии 0.7.0[2]).|\n",
    "| **cluster **  |Векторное квантование.                                            |\n",
    "|**fftpack ** |Дискретные алгоритмы преобразования Фурье.                        |\n",
    "|**integrate** |Инструменты для интегрирования.|\n",
    "|**interpolate **|Инструменты для интерполяции.|\n",
    "|**io** |Ввод-вывод данных.|\n",
    "|**lib** |Работа со сторонними библиотеками.|\n",
    "|**linalg** |Линейная алгебра.|\n",
    "|**misc** |Разное.|\n",
    "|**optimize **|Средства оптимизации.|\n",
    "|**sandbox** |Экспериментальный код.|\n",
    "|**signal** |Обработка сигналов.|\n",
    "|**sparse **|Поддержка разреженных матриц.|\n",
    "|**special** |Cпециальные функции.|\n",
    "|**stats** |Статистические функции.|\n",
    "|**weave **|Использование кода, написанного на языках C и C++.|\n"
   ]
  },
  {
   "cell_type": "markdown",
   "metadata": {},
   "source": [
    "## scipy.sparse\n",
    "### разреженные матрицы\n",
    "copy-pasted from http://dobroflot.blogspot.ru/2014/11/scipy.html\n",
    "\n",
    "RTFM: https://docs.scipy.org/doc/scipy-0.18.1/reference/sparse.html\n",
    "\n",
    "#### bsr_matrix\n",
    "Этот класс подойдёт для разреженных матриц, в которых ненулевые элементы \"идут блоками\". Можно указать высоту и ширину блоков; по умолчанию эти параметры подбираются эвристически.\n",
    "\n",
    "Насколько я понимаю, хорош только для хранения. \n",
    "\n",
    "#### coo_matrix\n",
    "Как пишут в документации, матрицы, представленные в *COOrdinate format*, то есть как тройки (x,y,value).\n",
    "\n",
    "Не поддерживаются арифметические операции и выделение подматриц, колонок и строк. Если встречаются тройки с одинаковыми координатами, значения суммируются.\n",
    "\n",
    "Хорош для построения матриц или как промежуточный формат между другими способами представления разреженных матриц (csc, csr).\n",
    "\n",
    "#### csc_matrix\n",
    "Элементы хранятся по колонкам. Следовательно, главная фишка -- эффективное выделение колонок (слайсинг).\n",
    "\n",
    "Кроме того, эффективно реализованы операции CSC + CSC, CSC * CSC и т. д. Сравнительно быстро работает умножение на столбец, но ясно, что в CSR это реализовано эффективнее.\n",
    "\n",
    "Дороги выделение строк и модификация нулевых элементов.\n",
    "\n",
    "#### csr_matrix\n",
    "Элементы хранятся по строкам. Следовательно, главная фишка -- их эффективное выделение (слайсинг).\n",
    "\n",
    "Кроме того, эффективно реализованы операции CSR + CSR, CSR * CSR и т. д. Быстрое умножение на столбец.\n",
    "\n",
    "Дороги выделение столбцов и модификация нулевых элементов.\n",
    "\n",
    "\n",
    "#### dia_matrix\n",
    "Хитрый формат. Диагонали хранятся как строки матрицы, которую подаём конструктору. Также подаётся массив со \"сдвигами\" от главной диагонали. Причём каждую следующую мы как бы \"приписываем к левому краю матрицы\".\n",
    "\n",
    "Насколько я понимаю, хорош для хранения матриц, у которых много пустых диагоналей.\n",
    "\n",
    "#### dok_matrix\n",
    "Словарь, в котором ключ -- пара координат. Быстрый доступ до элементов, быстрое преобразование в COO (скан по всем ключам). Дубликатов не бывает.\n",
    "\n",
    "Всё остальное -- медленное.\n",
    "\n",
    "\n",
    "#### lil_matrix\n",
    "Цепной список цепных списков, представляющих строки матрицы. Эффективный слайсинг строк, эффективное добавление новых элементов.\n",
    "\n",
    "Арифметика -- медленная, умножение на вектор -- медленное, слайсинг колонок -- медленный.\n",
    "\n",
    "Хорош для построения. Если матрица ну совсем большая, то лучше использовать COO."
   ]
  },
  {
   "cell_type": "markdown",
   "metadata": {},
   "source": [
    "Работают многие методы, уже знакомые нам по занятию и домашке по NumPy.\n",
    "Например, hstack, vstack, ...\n",
    "\n",
    "Задач на **scipy.sparse** не будет, но, возможно, этот модуль вам пригодится в домашней работе."
   ]
  },
  {
   "cell_type": "markdown",
   "metadata": {},
   "source": [
    "# pandas \n",
    "-- мощный инструмент с не самым очевидным API\n",
    "\n",
    "http://pandas.pydata.org/\n",
    "\n",
    "http://pandas.pydata.org/pandas-docs/version/0.18.1/10min.html\n",
    "\n",
    "http://pandas.pydata.org/pandas-docs/version/0.18.1/tutorials.html\n",
    "\n",
    "Exploratory data analysis, предобработка данных, predictive modeling (в малой степени).\n",
    "Проекции, слияние, фильтрация, группировка, агрегация,...\n",
    "\n",
    "Есть смысл читать документацию и думать о наибольшей эффективности выполнения тех или иных операций.\n",
    "Так, по-прежнему, если вы пишете цикл, вы что-то делаете не так; векторные операции for the win!\n",
    "\n",
    "И особенно это важно, если ваш код будет затем адаптироваться для [py]Spark. Благодаря DataFrame API Apache Spark, это делается просто."
   ]
  },
  {
   "cell_type": "markdown",
   "metadata": {},
   "source": [
    "## data structures and types    "
   ]
  },
  {
   "cell_type": "code",
   "execution_count": 1,
   "metadata": {
    "collapsed": false
   },
   "outputs": [
    {
     "name": "stdout",
     "output_type": "stream",
     "text": [
      "float64\n",
      "(6,)\n",
      "RangeIndex(start=0, stop=6, step=1)\n"
     ]
    },
    {
     "data": {
      "text/plain": [
       "2    5.0\n",
       "3    NaN\n",
       "Name: Some series, dtype: float64"
      ]
     },
     "execution_count": 1,
     "metadata": {},
     "output_type": "execute_result"
    }
   ],
   "source": [
    "import pandas as pd\n",
    "import numpy as np\n",
    "\n",
    "# series -- \"колонка\" одного типа; можно относиться как к словарю из ИНДЕКСОВ в ЗНАЧЕНИЯ\n",
    "s = pd.Series([1,3,5,np.nan,6,8], name=\"Some series\")\n",
    "\n",
    "print(s.dtype)\n",
    "print(s.shape)\n",
    "print(s.index)\n",
    "\n",
    "s[2:4]"
   ]
  },
  {
   "cell_type": "code",
   "execution_count": 2,
   "metadata": {
    "collapsed": false
   },
   "outputs": [
    {
     "name": "stdout",
     "output_type": "stream",
     "text": [
      "Index(['q', 'w', 'e', 'r', 't', 'y'], dtype='object')\n",
      "e    5.0\n",
      "r    NaN\n",
      "Name: Some series, dtype: float64\n",
      "e    5.0\n",
      "r    NaN\n",
      "t    6.0\n",
      "Name: Some series, dtype: float64\n",
      "Series([], Name: Some series, dtype: float64)\n"
     ]
    }
   ],
   "source": [
    "s = pd.Series([1,3,5,np.nan,6,8], name=\"Some series\", index=[\"q\",\"w\",\"e\",\"r\",\"t\",\"y\"])\n",
    "\n",
    "print(s.index)\n",
    "\n",
    "print(s[2:4])\n",
    "\n",
    "print(s[\"e\":\"t\"]) # обратите внимание!\n",
    "\n",
    "print(s[\"e\":\"q\"]) # обратите внимание!\n"
   ]
  },
  {
   "cell_type": "code",
   "execution_count": 4,
   "metadata": {
    "collapsed": false
   },
   "outputs": [
    {
     "name": "stdout",
     "output_type": "stream",
     "text": [
      "DatetimeIndex(['2013-01-01', '2013-01-02', '2013-01-03', '2013-01-04',\n",
      "               '2013-01-05', '2013-01-06'],\n",
      "              dtype='datetime64[ns]', freq='D')\n",
      "                   A         B         C         D\n",
      "2013-01-01  0.537812 -1.341104 -0.347894 -1.384417\n",
      "2013-01-02 -0.675753  1.141779  0.287904 -0.465170\n",
      "2013-01-03 -0.488427  0.597972  2.087767  1.963745\n",
      "2013-01-04 -0.852172 -0.050369 -0.176193  0.221053\n",
      "2013-01-05 -0.685809  0.148580 -0.372406 -0.928716\n",
      "2013-01-06 -1.201493  0.536798  1.065499  1.187133\n"
     ]
    }
   ],
   "source": [
    "# http://pandas.pydata.org/pandas-docs/stable/timeseries.html#offset-aliases\n",
    "dates = pd.date_range('20130101', periods=6) # default frequency measure is 1 day\n",
    "\n",
    "print(dates)\n",
    "\n",
    "df = pd.DataFrame(np.random.randn(6, 4), index=dates, columns=list('ABCD'))\n",
    "\n",
    "print(df)"
   ]
  },
  {
   "cell_type": "code",
   "execution_count": 5,
   "metadata": {
    "collapsed": false
   },
   "outputs": [
    {
     "data": {
      "text/html": [
       "<div>\n",
       "<table border=\"1\" class=\"dataframe\">\n",
       "  <thead>\n",
       "    <tr style=\"text-align: right;\">\n",
       "      <th></th>\n",
       "      <th>A</th>\n",
       "      <th>B</th>\n",
       "      <th>C</th>\n",
       "      <th>D</th>\n",
       "      <th>E</th>\n",
       "      <th>F</th>\n",
       "    </tr>\n",
       "  </thead>\n",
       "  <tbody>\n",
       "    <tr>\n",
       "      <th>0</th>\n",
       "      <td>1.0</td>\n",
       "      <td>2013-01-02</td>\n",
       "      <td>1.0</td>\n",
       "      <td>3</td>\n",
       "      <td>test</td>\n",
       "      <td>foo</td>\n",
       "    </tr>\n",
       "    <tr>\n",
       "      <th>1</th>\n",
       "      <td>1.0</td>\n",
       "      <td>2013-01-02</td>\n",
       "      <td>1.0</td>\n",
       "      <td>3</td>\n",
       "      <td>train</td>\n",
       "      <td>foo</td>\n",
       "    </tr>\n",
       "    <tr>\n",
       "      <th>2</th>\n",
       "      <td>1.0</td>\n",
       "      <td>2013-01-02</td>\n",
       "      <td>1.0</td>\n",
       "      <td>3</td>\n",
       "      <td>test</td>\n",
       "      <td>foo</td>\n",
       "    </tr>\n",
       "    <tr>\n",
       "      <th>3</th>\n",
       "      <td>1.0</td>\n",
       "      <td>2013-01-02</td>\n",
       "      <td>1.0</td>\n",
       "      <td>3</td>\n",
       "      <td>train</td>\n",
       "      <td>foo</td>\n",
       "    </tr>\n",
       "  </tbody>\n",
       "</table>\n",
       "</div>"
      ],
      "text/plain": [
       "     A          B    C  D      E    F\n",
       "0  1.0 2013-01-02  1.0  3   test  foo\n",
       "1  1.0 2013-01-02  1.0  3  train  foo\n",
       "2  1.0 2013-01-02  1.0  3   test  foo\n",
       "3  1.0 2013-01-02  1.0  3  train  foo"
      ]
     },
     "execution_count": 5,
     "metadata": {},
     "output_type": "execute_result"
    }
   ],
   "source": [
    "df2 = pd.DataFrame({ 'A' : 1.,\n",
    "                    'B' : pd.Timestamp('20130102'),\n",
    "                    'C' : pd.Series(1,index=list(range(4)),dtype='float32'),\n",
    "                    'D' : np.array([3] * 4,dtype='int32'),\n",
    "                    'E' : pd.Categorical([\"test\",\"train\",\"test\",\"train\"]),\n",
    "                    'F' : 'foo' })\n",
    "df2"
   ]
  },
  {
   "cell_type": "code",
   "execution_count": 6,
   "metadata": {
    "collapsed": false
   },
   "outputs": [
    {
     "data": {
      "text/plain": [
       "A           float64\n",
       "B    datetime64[ns]\n",
       "C           float32\n",
       "D             int32\n",
       "E          category\n",
       "F            object\n",
       "dtype: object"
      ]
     },
     "execution_count": 6,
     "metadata": {},
     "output_type": "execute_result"
    }
   ],
   "source": [
    "df2.dtypes"
   ]
  },
  {
   "cell_type": "markdown",
   "metadata": {},
   "source": [
    "## viewing data"
   ]
  },
  {
   "cell_type": "code",
   "execution_count": 7,
   "metadata": {
    "collapsed": false
   },
   "outputs": [
    {
     "data": {
      "text/plain": [
       "(                   A         B         C         D\n",
       " 2013-01-01 -0.325481  0.564172  0.691345  0.348965,\n",
       "                    A         B         C         D\n",
       " 2013-01-05  0.185373 -0.868162 -1.176157  0.517679\n",
       " 2013-01-06 -1.227492  1.487468 -1.795868 -0.144867)"
      ]
     },
     "execution_count": 7,
     "metadata": {},
     "output_type": "execute_result"
    }
   ],
   "source": [
    "df.head(1), df.tail(2)"
   ]
  },
  {
   "cell_type": "code",
   "execution_count": 8,
   "metadata": {
    "collapsed": false
   },
   "outputs": [
    {
     "name": "stdout",
     "output_type": "stream",
     "text": [
      "DatetimeIndex(['2013-01-01', '2013-01-02', '2013-01-03', '2013-01-04',\n",
      "               '2013-01-05', '2013-01-06'],\n",
      "              dtype='datetime64[ns]', freq='D')\n"
     ]
    }
   ],
   "source": [
    "print(df.index)\n",
    "#print(df.columns)\n",
    "#print(df.values)"
   ]
  },
  {
   "cell_type": "code",
   "execution_count": 9,
   "metadata": {
    "collapsed": false
   },
   "outputs": [
    {
     "data": {
      "text/html": [
       "<div>\n",
       "<table border=\"1\" class=\"dataframe\">\n",
       "  <thead>\n",
       "    <tr style=\"text-align: right;\">\n",
       "      <th></th>\n",
       "      <th>A</th>\n",
       "      <th>B</th>\n",
       "      <th>C</th>\n",
       "      <th>D</th>\n",
       "    </tr>\n",
       "  </thead>\n",
       "  <tbody>\n",
       "    <tr>\n",
       "      <th>count</th>\n",
       "      <td>6.000000</td>\n",
       "      <td>6.000000</td>\n",
       "      <td>6.000000</td>\n",
       "      <td>6.000000</td>\n",
       "    </tr>\n",
       "    <tr>\n",
       "      <th>mean</th>\n",
       "      <td>-0.282953</td>\n",
       "      <td>0.356866</td>\n",
       "      <td>-0.475116</td>\n",
       "      <td>-0.028289</td>\n",
       "    </tr>\n",
       "    <tr>\n",
       "      <th>std</th>\n",
       "      <td>0.829022</td>\n",
       "      <td>0.882769</td>\n",
       "      <td>1.127584</td>\n",
       "      <td>0.502341</td>\n",
       "    </tr>\n",
       "    <tr>\n",
       "      <th>min</th>\n",
       "      <td>-1.227492</td>\n",
       "      <td>-0.868162</td>\n",
       "      <td>-1.795868</td>\n",
       "      <td>-0.905205</td>\n",
       "    </tr>\n",
       "    <tr>\n",
       "      <th>25%</th>\n",
       "      <td>-0.821878</td>\n",
       "      <td>-0.250176</td>\n",
       "      <td>-1.361268</td>\n",
       "      <td>-0.140614</td>\n",
       "    </tr>\n",
       "    <tr>\n",
       "      <th>50%</th>\n",
       "      <td>-0.398433</td>\n",
       "      <td>0.617186</td>\n",
       "      <td>-0.546811</td>\n",
       "      <td>0.006849</td>\n",
       "    </tr>\n",
       "    <tr>\n",
       "      <th>75%</th>\n",
       "      <td>0.057659</td>\n",
       "      <td>0.774407</td>\n",
       "      <td>0.539143</td>\n",
       "      <td>0.297112</td>\n",
       "    </tr>\n",
       "    <tr>\n",
       "      <th>max</th>\n",
       "      <td>1.079975</td>\n",
       "      <td>1.487468</td>\n",
       "      <td>0.770417</td>\n",
       "      <td>0.517679</td>\n",
       "    </tr>\n",
       "  </tbody>\n",
       "</table>\n",
       "</div>"
      ],
      "text/plain": [
       "              A         B         C         D\n",
       "count  6.000000  6.000000  6.000000  6.000000\n",
       "mean  -0.282953  0.356866 -0.475116 -0.028289\n",
       "std    0.829022  0.882769  1.127584  0.502341\n",
       "min   -1.227492 -0.868162 -1.795868 -0.905205\n",
       "25%   -0.821878 -0.250176 -1.361268 -0.140614\n",
       "50%   -0.398433  0.617186 -0.546811  0.006849\n",
       "75%    0.057659  0.774407  0.539143  0.297112\n",
       "max    1.079975  1.487468  0.770417  0.517679"
      ]
     },
     "execution_count": 9,
     "metadata": {},
     "output_type": "execute_result"
    }
   ],
   "source": [
    "# стандартные статистики по каждой колонке\n",
    "df.describe()"
   ]
  },
  {
   "cell_type": "code",
   "execution_count": 10,
   "metadata": {
    "collapsed": false
   },
   "outputs": [
    {
     "data": {
      "text/html": [
       "<div>\n",
       "<table border=\"1\" class=\"dataframe\">\n",
       "  <thead>\n",
       "    <tr style=\"text-align: right;\">\n",
       "      <th></th>\n",
       "      <th>2013-01-01 00:00:00</th>\n",
       "      <th>2013-01-02 00:00:00</th>\n",
       "      <th>2013-01-03 00:00:00</th>\n",
       "      <th>2013-01-04 00:00:00</th>\n",
       "      <th>2013-01-05 00:00:00</th>\n",
       "      <th>2013-01-06 00:00:00</th>\n",
       "    </tr>\n",
       "  </thead>\n",
       "  <tbody>\n",
       "    <tr>\n",
       "      <th>A</th>\n",
       "      <td>-0.325481</td>\n",
       "      <td>1.079975</td>\n",
       "      <td>-0.938710</td>\n",
       "      <td>-0.471385</td>\n",
       "      <td>0.185373</td>\n",
       "      <td>-1.227492</td>\n",
       "    </tr>\n",
       "    <tr>\n",
       "      <th>B</th>\n",
       "      <td>0.564172</td>\n",
       "      <td>0.809142</td>\n",
       "      <td>-0.521625</td>\n",
       "      <td>0.670200</td>\n",
       "      <td>-0.868162</td>\n",
       "      <td>1.487468</td>\n",
       "    </tr>\n",
       "    <tr>\n",
       "      <th>C</th>\n",
       "      <td>0.691345</td>\n",
       "      <td>0.770417</td>\n",
       "      <td>-1.422971</td>\n",
       "      <td>0.082535</td>\n",
       "      <td>-1.176157</td>\n",
       "      <td>-1.795868</td>\n",
       "    </tr>\n",
       "    <tr>\n",
       "      <th>D</th>\n",
       "      <td>0.348965</td>\n",
       "      <td>-0.127855</td>\n",
       "      <td>0.141553</td>\n",
       "      <td>-0.905205</td>\n",
       "      <td>0.517679</td>\n",
       "      <td>-0.144867</td>\n",
       "    </tr>\n",
       "  </tbody>\n",
       "</table>\n",
       "</div>"
      ],
      "text/plain": [
       "   2013-01-01  2013-01-02  2013-01-03  2013-01-04  2013-01-05  2013-01-06\n",
       "A   -0.325481    1.079975   -0.938710   -0.471385    0.185373   -1.227492\n",
       "B    0.564172    0.809142   -0.521625    0.670200   -0.868162    1.487468\n",
       "C    0.691345    0.770417   -1.422971    0.082535   -1.176157   -1.795868\n",
       "D    0.348965   -0.127855    0.141553   -0.905205    0.517679   -0.144867"
      ]
     },
     "execution_count": 10,
     "metadata": {},
     "output_type": "execute_result"
    }
   ],
   "source": [
    "df.T "
   ]
  },
  {
   "cell_type": "code",
   "execution_count": 27,
   "metadata": {
    "collapsed": false
   },
   "outputs": [
    {
     "data": {
      "text/plain": [
       "(Index(['A', 'B', 'C', 'D'], dtype='object'),\n",
       " DatetimeIndex(['2013-01-01', '2013-01-02', '2013-01-03', '2013-01-04',\n",
       "                '2013-01-05', '2013-01-06'],\n",
       "               dtype='datetime64[ns]', freq='D'))"
      ]
     },
     "execution_count": 27,
     "metadata": {},
     "output_type": "execute_result"
    }
   ],
   "source": [
    "df.T.index, df.index"
   ]
  },
  {
   "cell_type": "code",
   "execution_count": 11,
   "metadata": {
    "collapsed": false
   },
   "outputs": [
    {
     "data": {
      "text/plain": [
       "(                   D         C         B         A\n",
       " 2013-01-01  0.348965  0.691345  0.564172 -0.325481\n",
       " 2013-01-02 -0.127855  0.770417  0.809142  1.079975\n",
       " 2013-01-03  0.141553 -1.422971 -0.521625 -0.938710\n",
       " 2013-01-04 -0.905205  0.082535  0.670200 -0.471385\n",
       " 2013-01-05  0.517679 -1.176157 -0.868162  0.185373\n",
       " 2013-01-06 -0.144867 -1.795868  1.487468 -1.227492,\n",
       "                    A         B         C         D\n",
       " 2013-01-01 -0.325481  0.564172  0.691345  0.348965\n",
       " 2013-01-02  1.079975  0.809142  0.770417 -0.127855\n",
       " 2013-01-03 -0.938710 -0.521625 -1.422971  0.141553\n",
       " 2013-01-04 -0.471385  0.670200  0.082535 -0.905205\n",
       " 2013-01-05  0.185373 -0.868162 -1.176157  0.517679\n",
       " 2013-01-06 -1.227492  1.487468 -1.795868 -0.144867)"
      ]
     },
     "execution_count": 11,
     "metadata": {},
     "output_type": "execute_result"
    }
   ],
   "source": [
    "df.sort_index(axis=1, ascending=False), df"
   ]
  },
  {
   "cell_type": "code",
   "execution_count": 12,
   "metadata": {
    "collapsed": false
   },
   "outputs": [
    {
     "data": {
      "text/html": [
       "<div>\n",
       "<table border=\"1\" class=\"dataframe\">\n",
       "  <thead>\n",
       "    <tr style=\"text-align: right;\">\n",
       "      <th></th>\n",
       "      <th>A</th>\n",
       "      <th>B</th>\n",
       "      <th>C</th>\n",
       "      <th>D</th>\n",
       "    </tr>\n",
       "  </thead>\n",
       "  <tbody>\n",
       "    <tr>\n",
       "      <th>2013-01-05</th>\n",
       "      <td>0.185373</td>\n",
       "      <td>-0.868162</td>\n",
       "      <td>-1.176157</td>\n",
       "      <td>0.517679</td>\n",
       "    </tr>\n",
       "    <tr>\n",
       "      <th>2013-01-03</th>\n",
       "      <td>-0.938710</td>\n",
       "      <td>-0.521625</td>\n",
       "      <td>-1.422971</td>\n",
       "      <td>0.141553</td>\n",
       "    </tr>\n",
       "    <tr>\n",
       "      <th>2013-01-01</th>\n",
       "      <td>-0.325481</td>\n",
       "      <td>0.564172</td>\n",
       "      <td>0.691345</td>\n",
       "      <td>0.348965</td>\n",
       "    </tr>\n",
       "    <tr>\n",
       "      <th>2013-01-04</th>\n",
       "      <td>-0.471385</td>\n",
       "      <td>0.670200</td>\n",
       "      <td>0.082535</td>\n",
       "      <td>-0.905205</td>\n",
       "    </tr>\n",
       "    <tr>\n",
       "      <th>2013-01-02</th>\n",
       "      <td>1.079975</td>\n",
       "      <td>0.809142</td>\n",
       "      <td>0.770417</td>\n",
       "      <td>-0.127855</td>\n",
       "    </tr>\n",
       "    <tr>\n",
       "      <th>2013-01-06</th>\n",
       "      <td>-1.227492</td>\n",
       "      <td>1.487468</td>\n",
       "      <td>-1.795868</td>\n",
       "      <td>-0.144867</td>\n",
       "    </tr>\n",
       "  </tbody>\n",
       "</table>\n",
       "</div>"
      ],
      "text/plain": [
       "                   A         B         C         D\n",
       "2013-01-05  0.185373 -0.868162 -1.176157  0.517679\n",
       "2013-01-03 -0.938710 -0.521625 -1.422971  0.141553\n",
       "2013-01-01 -0.325481  0.564172  0.691345  0.348965\n",
       "2013-01-04 -0.471385  0.670200  0.082535 -0.905205\n",
       "2013-01-02  1.079975  0.809142  0.770417 -0.127855\n",
       "2013-01-06 -1.227492  1.487468 -1.795868 -0.144867"
      ]
     },
     "execution_count": 12,
     "metadata": {},
     "output_type": "execute_result"
    }
   ],
   "source": [
    "df.sort_values(by='B')"
   ]
  },
  {
   "cell_type": "markdown",
   "metadata": {
    "collapsed": true
   },
   "source": [
    "## выборка данных\n",
    "#### NB!\n",
    "While standard Python / Numpy expressions for selecting and setting are intuitive and come in handy for interactive work, for production code, we recommend the optimized pandas data access methods, .at, .iat, .loc, .iloc and .ix.\n",
    "http://pandas.pydata.org/pandas-docs/stable/indexing.html#indexing\n",
    "http://pandas.pydata.org/pandas-docs/stable/advanced.html#advanced"
   ]
  },
  {
   "cell_type": "code",
   "execution_count": 13,
   "metadata": {
    "collapsed": false
   },
   "outputs": [
    {
     "data": {
      "text/plain": [
       "2013-01-01   -0.325481\n",
       "2013-01-02    1.079975\n",
       "2013-01-03   -0.938710\n",
       "2013-01-04   -0.471385\n",
       "2013-01-05    0.185373\n",
       "2013-01-06   -1.227492\n",
       "Freq: D, Name: A, dtype: float64"
      ]
     },
     "execution_count": 13,
     "metadata": {},
     "output_type": "execute_result"
    }
   ],
   "source": [
    "df['A']"
   ]
  },
  {
   "cell_type": "code",
   "execution_count": 14,
   "metadata": {
    "collapsed": false
   },
   "outputs": [
    {
     "data": {
      "text/plain": [
       "2013-01-01   -0.325481\n",
       "2013-01-02    1.079975\n",
       "2013-01-03   -0.938710\n",
       "2013-01-04   -0.471385\n",
       "2013-01-05    0.185373\n",
       "2013-01-06   -1.227492\n",
       "Freq: D, Name: A, dtype: float64"
      ]
     },
     "execution_count": 14,
     "metadata": {},
     "output_type": "execute_result"
    }
   ],
   "source": [
    "df.A"
   ]
  },
  {
   "cell_type": "code",
   "execution_count": 17,
   "metadata": {
    "collapsed": false
   },
   "outputs": [
    {
     "data": {
      "text/html": [
       "<div>\n",
       "<table border=\"1\" class=\"dataframe\">\n",
       "  <thead>\n",
       "    <tr style=\"text-align: right;\">\n",
       "      <th></th>\n",
       "      <th>A</th>\n",
       "      <th>B</th>\n",
       "      <th>C</th>\n",
       "      <th>D</th>\n",
       "    </tr>\n",
       "  </thead>\n",
       "  <tbody>\n",
       "    <tr>\n",
       "      <th>2013-01-01</th>\n",
       "      <td>-0.325481</td>\n",
       "      <td>0.564172</td>\n",
       "      <td>0.691345</td>\n",
       "      <td>0.348965</td>\n",
       "    </tr>\n",
       "    <tr>\n",
       "      <th>2013-01-02</th>\n",
       "      <td>1.079975</td>\n",
       "      <td>0.809142</td>\n",
       "      <td>0.770417</td>\n",
       "      <td>-0.127855</td>\n",
       "    </tr>\n",
       "    <tr>\n",
       "      <th>2013-01-03</th>\n",
       "      <td>-0.938710</td>\n",
       "      <td>-0.521625</td>\n",
       "      <td>-1.422971</td>\n",
       "      <td>0.141553</td>\n",
       "    </tr>\n",
       "  </tbody>\n",
       "</table>\n",
       "</div>"
      ],
      "text/plain": [
       "                   A         B         C         D\n",
       "2013-01-01 -0.325481  0.564172  0.691345  0.348965\n",
       "2013-01-02  1.079975  0.809142  0.770417 -0.127855\n",
       "2013-01-03 -0.938710 -0.521625 -1.422971  0.141553"
      ]
     },
     "execution_count": 17,
     "metadata": {},
     "output_type": "execute_result"
    }
   ],
   "source": [
    "df[0:3]"
   ]
  },
  {
   "cell_type": "markdown",
   "metadata": {},
   "source": [
    "## выборка по значениям индексов"
   ]
  },
  {
   "cell_type": "code",
   "execution_count": 18,
   "metadata": {
    "collapsed": false
   },
   "outputs": [
    {
     "data": {
      "text/html": [
       "<div>\n",
       "<table border=\"1\" class=\"dataframe\">\n",
       "  <thead>\n",
       "    <tr style=\"text-align: right;\">\n",
       "      <th></th>\n",
       "      <th>A</th>\n",
       "      <th>B</th>\n",
       "      <th>C</th>\n",
       "      <th>D</th>\n",
       "    </tr>\n",
       "  </thead>\n",
       "  <tbody>\n",
       "    <tr>\n",
       "      <th>2013-01-02</th>\n",
       "      <td>1.079975</td>\n",
       "      <td>0.809142</td>\n",
       "      <td>0.770417</td>\n",
       "      <td>-0.127855</td>\n",
       "    </tr>\n",
       "    <tr>\n",
       "      <th>2013-01-03</th>\n",
       "      <td>-0.938710</td>\n",
       "      <td>-0.521625</td>\n",
       "      <td>-1.422971</td>\n",
       "      <td>0.141553</td>\n",
       "    </tr>\n",
       "    <tr>\n",
       "      <th>2013-01-04</th>\n",
       "      <td>-0.471385</td>\n",
       "      <td>0.670200</td>\n",
       "      <td>0.082535</td>\n",
       "      <td>-0.905205</td>\n",
       "    </tr>\n",
       "  </tbody>\n",
       "</table>\n",
       "</div>"
      ],
      "text/plain": [
       "                   A         B         C         D\n",
       "2013-01-02  1.079975  0.809142  0.770417 -0.127855\n",
       "2013-01-03 -0.938710 -0.521625 -1.422971  0.141553\n",
       "2013-01-04 -0.471385  0.670200  0.082535 -0.905205"
      ]
     },
     "execution_count": 18,
     "metadata": {},
     "output_type": "execute_result"
    }
   ],
   "source": [
    " df['20130102':'20130104']"
   ]
  },
  {
   "cell_type": "code",
   "execution_count": 9,
   "metadata": {
    "collapsed": false
   },
   "outputs": [
    {
     "name": "stdout",
     "output_type": "stream",
     "text": [
      "First index: 2013-01-01 00:00:00\n",
      "                   A         B         C         D\n",
      "2013-01-01  0.537812 -1.341104 -0.347894 -1.384417\n",
      "2013-01-02 -0.675753  1.141779  0.287904 -0.465170\n",
      "2013-01-03 -0.488427  0.597972  2.087767  1.963745\n",
      "2013-01-04 -0.852172 -0.050369 -0.176193  0.221053\n",
      "2013-01-05 -0.685809  0.148580 -0.372406 -0.928716\n",
      "2013-01-06 -1.201493  0.536798  1.065499  1.187133\n",
      "A    0.537812\n",
      "B   -1.341104\n",
      "C   -0.347894\n",
      "D   -1.384417\n",
      "Name: 2013-01-01 00:00:00, dtype: float64\n"
     ]
    }
   ],
   "source": [
    "# первый индекс\n",
    "print(\"First index: \" + str(dates[0]))\n",
    "\n",
    "print(df)\n",
    "\n",
    "# выбираем всё по этому индексу\n",
    "print(df.loc[dates[0]])\n",
    "\n",
    "# при слайсинге включаются обе границы"
   ]
  },
  {
   "cell_type": "markdown",
   "metadata": {},
   "source": [
    "## выборка по порядковым номерам индексов"
   ]
  },
  {
   "cell_type": "code",
   "execution_count": 24,
   "metadata": {
    "collapsed": false
   },
   "outputs": [
    {
     "data": {
      "text/html": [
       "<div>\n",
       "<table border=\"1\" class=\"dataframe\">\n",
       "  <thead>\n",
       "    <tr style=\"text-align: right;\">\n",
       "      <th></th>\n",
       "      <th>A</th>\n",
       "      <th>B</th>\n",
       "      <th>C</th>\n",
       "      <th>D</th>\n",
       "    </tr>\n",
       "  </thead>\n",
       "  <tbody>\n",
       "    <tr>\n",
       "      <th>2013-01-04</th>\n",
       "      <td>-0.471385</td>\n",
       "      <td>0.670200</td>\n",
       "      <td>0.082535</td>\n",
       "      <td>-0.905205</td>\n",
       "    </tr>\n",
       "    <tr>\n",
       "      <th>2013-01-05</th>\n",
       "      <td>0.185373</td>\n",
       "      <td>-0.868162</td>\n",
       "      <td>-1.176157</td>\n",
       "      <td>0.517679</td>\n",
       "    </tr>\n",
       "  </tbody>\n",
       "</table>\n",
       "</div>"
      ],
      "text/plain": [
       "                   A         B         C         D\n",
       "2013-01-04 -0.471385  0.670200  0.082535 -0.905205\n",
       "2013-01-05  0.185373 -0.868162 -1.176157  0.517679"
      ]
     },
     "execution_count": 24,
     "metadata": {},
     "output_type": "execute_result"
    }
   ],
   "source": [
    "df.iloc[3:5]"
   ]
  },
  {
   "cell_type": "code",
   "execution_count": 25,
   "metadata": {
    "collapsed": false
   },
   "outputs": [
    {
     "name": "stdout",
     "output_type": "stream",
     "text": [
      "0.80914202776\n",
      "0.80914202776\n"
     ]
    }
   ],
   "source": [
    "# доступ до отдельного значения\n",
    "print(df.iat[1, 1])\n",
    "print(df.iloc[1, 1]) # то же"
   ]
  },
  {
   "cell_type": "code",
   "execution_count": 26,
   "metadata": {
    "collapsed": false
   },
   "outputs": [
    {
     "data": {
      "text/html": [
       "<div>\n",
       "<table border=\"1\" class=\"dataframe\">\n",
       "  <thead>\n",
       "    <tr style=\"text-align: right;\">\n",
       "      <th></th>\n",
       "      <th>A</th>\n",
       "      <th>B</th>\n",
       "      <th>C</th>\n",
       "      <th>D</th>\n",
       "    </tr>\n",
       "  </thead>\n",
       "  <tbody>\n",
       "    <tr>\n",
       "      <th>2013-01-02</th>\n",
       "      <td>1.079975</td>\n",
       "      <td>0.809142</td>\n",
       "      <td>0.770417</td>\n",
       "      <td>-0.127855</td>\n",
       "    </tr>\n",
       "    <tr>\n",
       "      <th>2013-01-05</th>\n",
       "      <td>0.185373</td>\n",
       "      <td>-0.868162</td>\n",
       "      <td>-1.176157</td>\n",
       "      <td>0.517679</td>\n",
       "    </tr>\n",
       "  </tbody>\n",
       "</table>\n",
       "</div>"
      ],
      "text/plain": [
       "                   A         B         C         D\n",
       "2013-01-02  1.079975  0.809142  0.770417 -0.127855\n",
       "2013-01-05  0.185373 -0.868162 -1.176157  0.517679"
      ]
     },
     "execution_count": 26,
     "metadata": {},
     "output_type": "execute_result"
    }
   ],
   "source": [
    "# выборка по значениям в колонках [ничего не напоминает?]\n",
    "df[df.A > 0]"
   ]
  },
  {
   "cell_type": "code",
   "execution_count": 27,
   "metadata": {
    "collapsed": false
   },
   "outputs": [
    {
     "data": {
      "text/html": [
       "<div>\n",
       "<table border=\"1\" class=\"dataframe\">\n",
       "  <thead>\n",
       "    <tr style=\"text-align: right;\">\n",
       "      <th></th>\n",
       "      <th>A</th>\n",
       "      <th>B</th>\n",
       "      <th>C</th>\n",
       "      <th>D</th>\n",
       "      <th>E</th>\n",
       "    </tr>\n",
       "  </thead>\n",
       "  <tbody>\n",
       "    <tr>\n",
       "      <th>2013-01-01</th>\n",
       "      <td>-0.325481</td>\n",
       "      <td>0.564172</td>\n",
       "      <td>0.691345</td>\n",
       "      <td>0.348965</td>\n",
       "      <td>one</td>\n",
       "    </tr>\n",
       "    <tr>\n",
       "      <th>2013-01-02</th>\n",
       "      <td>1.079975</td>\n",
       "      <td>0.809142</td>\n",
       "      <td>0.770417</td>\n",
       "      <td>-0.127855</td>\n",
       "      <td>one</td>\n",
       "    </tr>\n",
       "    <tr>\n",
       "      <th>2013-01-04</th>\n",
       "      <td>-0.471385</td>\n",
       "      <td>0.670200</td>\n",
       "      <td>0.082535</td>\n",
       "      <td>-0.905205</td>\n",
       "      <td>three</td>\n",
       "    </tr>\n",
       "    <tr>\n",
       "      <th>2013-01-06</th>\n",
       "      <td>-1.227492</td>\n",
       "      <td>1.487468</td>\n",
       "      <td>-1.795868</td>\n",
       "      <td>-0.144867</td>\n",
       "      <td>three</td>\n",
       "    </tr>\n",
       "  </tbody>\n",
       "</table>\n",
       "</div>"
      ],
      "text/plain": [
       "                   A         B         C         D      E\n",
       "2013-01-01 -0.325481  0.564172  0.691345  0.348965    one\n",
       "2013-01-02  1.079975  0.809142  0.770417 -0.127855    one\n",
       "2013-01-04 -0.471385  0.670200  0.082535 -0.905205  three\n",
       "2013-01-06 -1.227492  1.487468 -1.795868 -0.144867  three"
      ]
     },
     "execution_count": 27,
     "metadata": {},
     "output_type": "execute_result"
    }
   ],
   "source": [
    "# фильтрация\n",
    "df2 = df.copy()\n",
    "df2['E'] = ['one', 'one','two','three','four','three']\n",
    "\n",
    "# то же, что filter по вхождению\n",
    "df2[df2['E'].isin(['hello', 'woow', 'three', 'one'])]"
   ]
  },
  {
   "cell_type": "markdown",
   "metadata": {},
   "source": [
    "## обновление"
   ]
  },
  {
   "cell_type": "code",
   "execution_count": 29,
   "metadata": {
    "collapsed": false
   },
   "outputs": [
    {
     "data": {
      "text/html": [
       "<div>\n",
       "<table border=\"1\" class=\"dataframe\">\n",
       "  <thead>\n",
       "    <tr style=\"text-align: right;\">\n",
       "      <th></th>\n",
       "      <th>A</th>\n",
       "      <th>B</th>\n",
       "      <th>C</th>\n",
       "      <th>D</th>\n",
       "      <th>F</th>\n",
       "    </tr>\n",
       "  </thead>\n",
       "  <tbody>\n",
       "    <tr>\n",
       "      <th>2013-01-01</th>\n",
       "      <td>-0.325481</td>\n",
       "      <td>0.564172</td>\n",
       "      <td>0.691345</td>\n",
       "      <td>0.348965</td>\n",
       "      <td>NaN</td>\n",
       "    </tr>\n",
       "    <tr>\n",
       "      <th>2013-01-02</th>\n",
       "      <td>1.079975</td>\n",
       "      <td>0.809142</td>\n",
       "      <td>0.770417</td>\n",
       "      <td>-0.127855</td>\n",
       "      <td>1.0</td>\n",
       "    </tr>\n",
       "    <tr>\n",
       "      <th>2013-01-03</th>\n",
       "      <td>-0.938710</td>\n",
       "      <td>-0.521625</td>\n",
       "      <td>-1.422971</td>\n",
       "      <td>0.141553</td>\n",
       "      <td>2.0</td>\n",
       "    </tr>\n",
       "    <tr>\n",
       "      <th>2013-01-04</th>\n",
       "      <td>-0.471385</td>\n",
       "      <td>0.670200</td>\n",
       "      <td>0.082535</td>\n",
       "      <td>-0.905205</td>\n",
       "      <td>3.0</td>\n",
       "    </tr>\n",
       "    <tr>\n",
       "      <th>2013-01-05</th>\n",
       "      <td>0.185373</td>\n",
       "      <td>-0.868162</td>\n",
       "      <td>-1.176157</td>\n",
       "      <td>0.517679</td>\n",
       "      <td>4.0</td>\n",
       "    </tr>\n",
       "    <tr>\n",
       "      <th>2013-01-06</th>\n",
       "      <td>-1.227492</td>\n",
       "      <td>1.487468</td>\n",
       "      <td>-1.795868</td>\n",
       "      <td>-0.144867</td>\n",
       "      <td>5.0</td>\n",
       "    </tr>\n",
       "  </tbody>\n",
       "</table>\n",
       "</div>"
      ],
      "text/plain": [
       "                   A         B         C         D    F\n",
       "2013-01-01 -0.325481  0.564172  0.691345  0.348965  NaN\n",
       "2013-01-02  1.079975  0.809142  0.770417 -0.127855  1.0\n",
       "2013-01-03 -0.938710 -0.521625 -1.422971  0.141553  2.0\n",
       "2013-01-04 -0.471385  0.670200  0.082535 -0.905205  3.0\n",
       "2013-01-05  0.185373 -0.868162 -1.176157  0.517679  4.0\n",
       "2013-01-06 -1.227492  1.487468 -1.795868 -0.144867  5.0"
      ]
     },
     "execution_count": 29,
     "metadata": {},
     "output_type": "execute_result"
    }
   ],
   "source": [
    "s1 = pd.Series([1,2,3,4,5,6], index=pd.date_range('20130102', periods=6))\n",
    "df['F'] = s1\n",
    "df"
   ]
  },
  {
   "cell_type": "code",
   "execution_count": 32,
   "metadata": {
    "collapsed": false
   },
   "outputs": [
    {
     "data": {
      "text/html": [
       "<div>\n",
       "<table border=\"1\" class=\"dataframe\">\n",
       "  <thead>\n",
       "    <tr style=\"text-align: right;\">\n",
       "      <th></th>\n",
       "      <th>A</th>\n",
       "      <th>B</th>\n",
       "      <th>C</th>\n",
       "      <th>D</th>\n",
       "      <th>F</th>\n",
       "    </tr>\n",
       "  </thead>\n",
       "  <tbody>\n",
       "    <tr>\n",
       "      <th>2013-01-01</th>\n",
       "      <td>0</td>\n",
       "      <td>0.564172</td>\n",
       "      <td>0.691345</td>\n",
       "      <td>0.348965</td>\n",
       "      <td>NaN</td>\n",
       "    </tr>\n",
       "    <tr>\n",
       "      <th>2013-01-02</th>\n",
       "      <td>0</td>\n",
       "      <td>0.809142</td>\n",
       "      <td>0.770417</td>\n",
       "      <td>-0.127855</td>\n",
       "      <td>1.0</td>\n",
       "    </tr>\n",
       "    <tr>\n",
       "      <th>2013-01-03</th>\n",
       "      <td>0</td>\n",
       "      <td>-0.521625</td>\n",
       "      <td>-1.422971</td>\n",
       "      <td>0.141553</td>\n",
       "      <td>2.0</td>\n",
       "    </tr>\n",
       "    <tr>\n",
       "      <th>2013-01-04</th>\n",
       "      <td>0</td>\n",
       "      <td>0.670200</td>\n",
       "      <td>0.082535</td>\n",
       "      <td>-0.905205</td>\n",
       "      <td>3.0</td>\n",
       "    </tr>\n",
       "    <tr>\n",
       "      <th>2013-01-05</th>\n",
       "      <td>0</td>\n",
       "      <td>-0.868162</td>\n",
       "      <td>-1.176157</td>\n",
       "      <td>0.517679</td>\n",
       "      <td>4.0</td>\n",
       "    </tr>\n",
       "    <tr>\n",
       "      <th>2013-01-06</th>\n",
       "      <td>0</td>\n",
       "      <td>1.487468</td>\n",
       "      <td>-1.795868</td>\n",
       "      <td>-0.144867</td>\n",
       "      <td>5.0</td>\n",
       "    </tr>\n",
       "  </tbody>\n",
       "</table>\n",
       "</div>"
      ],
      "text/plain": [
       "            A         B         C         D    F\n",
       "2013-01-01  0  0.564172  0.691345  0.348965  NaN\n",
       "2013-01-02  0  0.809142  0.770417 -0.127855  1.0\n",
       "2013-01-03  0 -0.521625 -1.422971  0.141553  2.0\n",
       "2013-01-04  0  0.670200  0.082535 -0.905205  3.0\n",
       "2013-01-05  0 -0.868162 -1.176157  0.517679  4.0\n",
       "2013-01-06  0  1.487468 -1.795868 -0.144867  5.0"
      ]
     },
     "execution_count": 32,
     "metadata": {},
     "output_type": "execute_result"
    }
   ],
   "source": [
    "# выборка по индексам\n",
    "\n",
    "df.at[:,'A'] = 0\n",
    "df.iat[0,1] = 999999\n",
    "df.loc[:,'D'] = np.array([5] * len(df))\n",
    "df"
   ]
  },
  {
   "cell_type": "code",
   "execution_count": 42,
   "metadata": {
    "collapsed": false
   },
   "outputs": [
    {
     "data": {
      "text/html": [
       "<div>\n",
       "<table border=\"1\" class=\"dataframe\">\n",
       "  <thead>\n",
       "    <tr style=\"text-align: right;\">\n",
       "      <th></th>\n",
       "      <th>A</th>\n",
       "      <th>B</th>\n",
       "      <th>C</th>\n",
       "      <th>D</th>\n",
       "      <th>F</th>\n",
       "    </tr>\n",
       "  </thead>\n",
       "  <tbody>\n",
       "    <tr>\n",
       "      <th>2013-01-01</th>\n",
       "      <td>0</td>\n",
       "      <td>-999.999000</td>\n",
       "      <td>-0.000691</td>\n",
       "      <td>-0.005</td>\n",
       "      <td>NaN</td>\n",
       "    </tr>\n",
       "    <tr>\n",
       "      <th>2013-01-02</th>\n",
       "      <td>0</td>\n",
       "      <td>-0.000809</td>\n",
       "      <td>-0.000770</td>\n",
       "      <td>-0.005</td>\n",
       "      <td>-0.001</td>\n",
       "    </tr>\n",
       "    <tr>\n",
       "      <th>2013-01-03</th>\n",
       "      <td>0</td>\n",
       "      <td>-0.521625</td>\n",
       "      <td>-1.422971</td>\n",
       "      <td>-0.005</td>\n",
       "      <td>-0.002</td>\n",
       "    </tr>\n",
       "    <tr>\n",
       "      <th>2013-01-04</th>\n",
       "      <td>0</td>\n",
       "      <td>-0.000670</td>\n",
       "      <td>-0.000083</td>\n",
       "      <td>-0.005</td>\n",
       "      <td>-0.003</td>\n",
       "    </tr>\n",
       "    <tr>\n",
       "      <th>2013-01-05</th>\n",
       "      <td>0</td>\n",
       "      <td>-0.868162</td>\n",
       "      <td>-1.176157</td>\n",
       "      <td>-0.005</td>\n",
       "      <td>-0.004</td>\n",
       "    </tr>\n",
       "    <tr>\n",
       "      <th>2013-01-06</th>\n",
       "      <td>0</td>\n",
       "      <td>-0.001487</td>\n",
       "      <td>-1.795868</td>\n",
       "      <td>-0.005</td>\n",
       "      <td>-0.005</td>\n",
       "    </tr>\n",
       "  </tbody>\n",
       "</table>\n",
       "</div>"
      ],
      "text/plain": [
       "            A           B         C      D      F\n",
       "2013-01-01  0 -999.999000 -0.000691 -0.005    NaN\n",
       "2013-01-02  0   -0.000809 -0.000770 -0.005 -0.001\n",
       "2013-01-03  0   -0.521625 -1.422971 -0.005 -0.002\n",
       "2013-01-04  0   -0.000670 -0.000083 -0.005 -0.003\n",
       "2013-01-05  0   -0.868162 -1.176157 -0.005 -0.004\n",
       "2013-01-06  0   -0.001487 -1.795868 -0.005 -0.005"
      ]
     },
     "execution_count": 42,
     "metadata": {},
     "output_type": "execute_result"
    }
   ],
   "source": [
    "# выборка по условию\n",
    "df[df > 0] = - 0.001 * df\n",
    "df"
   ]
  },
  {
   "cell_type": "code",
   "execution_count": 49,
   "metadata": {
    "collapsed": false
   },
   "outputs": [
    {
     "name": "stdout",
     "output_type": "stream",
     "text": [
      "   PassengerId  Survived  Pclass  \\\n",
      "0            1         0       3   \n",
      "1            2         1       1   \n",
      "2            3         1       3   \n",
      "3            4         1       1   \n",
      "4            5         0       3   \n",
      "\n",
      "                                                Name     Sex   Age  SibSp  \\\n",
      "0                            Braund, Mr. Owen Harris    male  22.0      1   \n",
      "1  Cumings, Mrs. John Bradley (Florence Briggs Th...  female  38.0      1   \n",
      "2                             Heikkinen, Miss. Laina  female  26.0      0   \n",
      "3       Futrelle, Mrs. Jacques Heath (Lily May Peel)  female  35.0      1   \n",
      "4                           Allen, Mr. William Henry    male  35.0      0   \n",
      "\n",
      "   Parch            Ticket     Fare Cabin Embarked  \n",
      "0      0         A/5 21171   7.2500   NaN        S  \n",
      "1      0          PC 17599  71.2833   C85        C  \n",
      "2      0  STON/O2. 3101282   7.9250   NaN        S  \n",
      "3      0            113803  53.1000  C123        S  \n",
      "4      0            373450   8.0500   NaN        S  \n"
     ]
    }
   ],
   "source": [
    "# Задачи\n",
    "# https://www.kaggle.com/c/titanic/data\n",
    "\n",
    "import pandas as pd\n",
    "\n",
    "train = pd.read_csv(\"train.csv\")\n",
    "test = pd.read_csv(\"test.csv\")\n",
    "\n",
    "# Задание 0\n",
    "# поисследуйте распределения значений фич -- \n",
    "# info, describe, etc...\n",
    "\n",
    "print(train.head(5))\n",
    "# видим, что есть пустые значения\n",
    "# google: dropna, fillna\n",
    "\n",
    "# Задание 1\n",
    "# Отбросить колонку Cabin и другие колонки, которые нам точно не помогут предсказать, погибнет ли пассажир.\n",
    "\n"
   ]
  },
  {
   "cell_type": "code",
   "execution_count": null,
   "metadata": {
    "collapsed": true
   },
   "outputs": [],
   "source": [
    "# Задание 2\n",
    "# Написать код, заполняющий пропуски в \"численных\" колонках \n",
    "# 2a -- значением (-1)\n",
    "# 2b -- средним значением по колонке"
   ]
  },
  {
   "cell_type": "code",
   "execution_count": null,
   "metadata": {
    "collapsed": true
   },
   "outputs": [],
   "source": [
    "\n",
    "# Задание 3\n",
    "# Понять, какие фичи -- номинальные (категориальные) -- без осмысленного порядка над ними. \n",
    "# Применить к ним пандасовский dummy_encoding (google examples)\n"
   ]
  },
  {
   "cell_type": "code",
   "execution_count": null,
   "metadata": {
    "collapsed": true
   },
   "outputs": [],
   "source": [
    "\n",
    "# Задание 4\n",
    "# Выделить Survived как отдельный вектор (или Series)\n"
   ]
  },
  {
   "cell_type": "code",
   "execution_count": null,
   "metadata": {
    "collapsed": true
   },
   "outputs": [],
   "source": [
    "# Задание 5\n",
    "# Нормализуйте средствами pandas (нельзя использовать sklearn) отдельно \n",
    "# каждую колонку -- с возрастом и со стоимостью билета\n",
    "# 5a. min-max scaling\n",
    "# 5b. вычесть среднее и разделить на стандартное отклонение"
   ]
  },
  {
   "cell_type": "code",
   "execution_count": null,
   "metadata": {
    "collapsed": true
   },
   "outputs": [],
   "source": [
    "# Задание 6\n",
    "# Постройте\n",
    "# train.pivot_table('PassengerId', 'Pclass', 'Survived', 'count').plot(kind='bar', stacked=True)\n",
    "# Погуглите, что это? О чём нам говорит этот график?"
   ]
  },
  {
   "cell_type": "code",
   "execution_count": null,
   "metadata": {
    "collapsed": true
   },
   "outputs": [],
   "source": [
    "# Задание 7\n",
    "# Для каждой фичи, кажущейся вам полезной, постройте гистограмму с помощью pandas-hist"
   ]
  },
  {
   "cell_type": "code",
   "execution_count": null,
   "metadata": {
    "collapsed": true
   },
   "outputs": [],
   "source": [
    "# Задание 8\n",
    "# Обучите slkearn-овскую LogisticRegression по преобразованному вами train \n",
    "# (в котором уже не должно остаться строковых колонок и NaN). Проверьте качество на test.csv.\n",
    "#\n",
    "# Проделайте то же самое без нормализации численных фич. Кто победил?"
   ]
  },
  {
   "cell_type": "code",
   "execution_count": null,
   "metadata": {
    "collapsed": true
   },
   "outputs": [],
   "source": [
    "# Задание 9*\n",
    "# Поработайте над кодом, над данными train и логистической регрессией так, чтобы\n",
    "# 1) параметры логистической регрессии подбирались с помощью GridSearch,\n",
    "# 2) качество оценивалось на train с помощью KFold-валидации."
   ]
  },
  {
   "cell_type": "markdown",
   "metadata": {},
   "source": [
    "### На самостоятельное  изучение\n",
    "\n",
    "- можно читать/писать в экселевские файлы\n",
    "- можно работать с временными рядами [time sehdp5ries]\n",
    "- можно строить графики \"из коробки\"\n",
    "- можно отбрасывать дубликаты\n",
    "- *можно грабить корованы...*"
   ]
  }
 ],
 "metadata": {
  "kernelspec": {
   "display_name": "Python 3",
   "language": "python",
   "name": "python3"
  },
  "language_info": {
   "codemirror_mode": {
    "name": "ipython",
    "version": 3
   },
   "file_extension": ".py",
   "mimetype": "text/x-python",
   "name": "python",
   "nbconvert_exporter": "python",
   "pygments_lexer": "ipython3",
   "version": "3.5.2"
  }
 },
 "nbformat": 4,
 "nbformat_minor": 0
}
